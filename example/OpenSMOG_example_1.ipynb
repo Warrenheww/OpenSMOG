{
 "cells": [
  {
   "cell_type": "code",
   "execution_count": 1,
   "metadata": {},
   "outputs": [],
   "source": [
    "import sys\n",
    "sys.path.append('../OpenSMOG') \n",
    "from OpenSMOG import OpenSMOG"
   ]
  },
  {
   "cell_type": "code",
   "execution_count": 2,
   "metadata": {},
   "outputs": [],
   "source": [
    "a = OpenSMOG(name='smog', dt = 0.002, gamma = 1.0, rcutoff = 1.5, temperature = 1.0)"
   ]
  },
  {
   "cell_type": "code",
   "execution_count": 3,
   "metadata": {},
   "outputs": [],
   "source": [
    "a.setup_openmm(platform='cuda', precision='mixed', GPUindex='default', integrator=\"langevin\")"
   ]
  },
  {
   "cell_type": "code",
   "execution_count": 4,
   "metadata": {},
   "outputs": [],
   "source": [
    "a.saveFolder('output') "
   ]
  },
  {
   "cell_type": "code",
   "execution_count": 5,
   "metadata": {},
   "outputs": [],
   "source": [
    "a.loadGro('example_1/openSMOG.2cg.gro')"
   ]
  },
  {
   "cell_type": "code",
   "execution_count": 6,
   "metadata": {},
   "outputs": [],
   "source": [
    "a.loadTop('example_1/openSMOG.2cg.top')"
   ]
  },
  {
   "cell_type": "code",
   "execution_count": 7,
   "metadata": {},
   "outputs": [
    {
     "name": "stdout",
     "output_type": "stream",
     "text": [
      "creating force contact_1-10-12 from xml file\n",
      "creating force contact_1-8-12 from xml file\n",
      "creating force contact_1-6-12 from xml file\n"
     ]
    }
   ],
   "source": [
    "a.loadXml('example_1/openSMOG.2cg.xml')"
   ]
  },
  {
   "cell_type": "code",
   "execution_count": 8,
   "metadata": {},
   "outputs": [],
   "source": [
    "a.createSimulation()"
   ]
  },
  {
   "cell_type": "code",
   "execution_count": 9,
   "metadata": {},
   "outputs": [],
   "source": [
    "a.createReporters(trajectory=True, energies=True, dt_files=1000)"
   ]
  },
  {
   "cell_type": "code",
   "execution_count": 10,
   "metadata": {
    "scrolled": true
   },
   "outputs": [
    {
     "name": "stdout",
     "output_type": "stream",
     "text": [
      "#\"Progress (%)\"\t\"Step\"\t\"Time Remaining\"\n",
      "5.0%\t5000\t--\n",
      "10.0%\t10000\t0:11\n",
      "15.0%\t15000\t0:10\n",
      "20.0%\t20000\t0:09\n",
      "25.0%\t25000\t0:09\n",
      "30.0%\t30000\t0:08\n",
      "35.0%\t35000\t0:08\n",
      "40.0%\t40000\t0:07\n",
      "45.0%\t45000\t0:06\n",
      "50.0%\t50000\t0:06\n",
      "55.0%\t55000\t0:05\n",
      "60.0%\t60000\t0:04\n",
      "65.0%\t65000\t0:04\n",
      "70.0%\t70000\t0:03\n",
      "75.0%\t75000\t0:03\n",
      "80.0%\t80000\t0:02\n",
      "85.0%\t85000\t0:01\n",
      "90.0%\t90000\t0:01\n",
      "95.0%\t95000\t0:00\n",
      "100.0%\t100000\t0:00\n"
     ]
    }
   ],
   "source": [
    "a.run(100000, report=True, interval=5000)"
   ]
  },
  {
   "cell_type": "code",
   "execution_count": null,
   "metadata": {},
   "outputs": [],
   "source": []
  }
 ],
 "metadata": {
  "kernelspec": {
   "display_name": "Python 3",
   "language": "python",
   "name": "python3"
  },
  "language_info": {
   "codemirror_mode": {
    "name": "ipython",
    "version": 3
   },
   "file_extension": ".py",
   "mimetype": "text/x-python",
   "name": "python",
   "nbconvert_exporter": "python",
   "pygments_lexer": "ipython3",
   "version": "3.7.4"
  }
 },
 "nbformat": 4,
 "nbformat_minor": 4
}
