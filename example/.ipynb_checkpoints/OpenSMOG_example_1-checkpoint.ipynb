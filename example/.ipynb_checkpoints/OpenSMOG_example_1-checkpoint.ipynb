{
 "cells": [
  {
   "cell_type": "code",
   "execution_count": 7,
   "metadata": {},
   "outputs": [],
   "source": [
    "import sys\n",
    "sys.path.append('../OpenSMOG') \n",
    "from OpenSMOG import OpenSMOG"
   ]
  },
  {
   "cell_type": "code",
   "execution_count": 8,
   "metadata": {},
   "outputs": [],
   "source": [
    "a = OpenSMOG(name='smog', dt = 0.002, gamma = 1.0, rcutoff = 1.5, temperature = 1.0)"
   ]
  },
  {
   "cell_type": "code",
   "execution_count": 9,
   "metadata": {},
   "outputs": [],
   "source": [
    "a.setup_openmm(platform='cuda', precision='mixed', GPUindex='default', integrator=\"langevin\")"
   ]
  },
  {
   "cell_type": "code",
   "execution_count": 10,
   "metadata": {},
   "outputs": [],
   "source": [
    "a.saveFolder('output') "
   ]
  },
  {
   "cell_type": "code",
   "execution_count": 11,
   "metadata": {},
   "outputs": [],
   "source": [
    "a.loadGro('example_1/openSMOG.2cg.gro')"
   ]
  },
  {
   "cell_type": "code",
   "execution_count": 12,
   "metadata": {},
   "outputs": [],
   "source": [
    "a.loadTop('example_1/openSMOG.2cg.top')"
   ]
  },
  {
   "cell_type": "code",
   "execution_count": 13,
   "metadata": {},
   "outputs": [
    {
     "name": "stdout",
     "output_type": "stream",
     "text": [
      "creating force contact_1-10-12 from xml file\n",
      "creating force contact_1-8-12 from xml file\n",
      "creating force contact_1-6-12 from xml file\n"
     ]
    }
   ],
   "source": [
    "a.loadXml('example_1/openSMOG.2cg.xml')"
   ]
  },
  {
   "cell_type": "code",
   "execution_count": 14,
   "metadata": {},
   "outputs": [],
   "source": [
    "a.createSimulation()"
   ]
  },
  {
   "cell_type": "code",
   "execution_count": 15,
   "metadata": {},
   "outputs": [],
   "source": [
    "a.createReporters(trajectory=True, energies=True, dt_files=1000)"
   ]
  },
  {
   "cell_type": "code",
   "execution_count": 16,
   "metadata": {
    "scrolled": true
   },
   "outputs": [
    {
     "name": "stdout",
     "output_type": "stream",
     "text": [
      "#\"Progress (%)\"\t\"Step\"\t\"Time Remaining\"\n",
      "1.0%\t1000\t--\n",
      "2.0%\t2000\t0:07\n",
      "3.0%\t3000\t0:07\n",
      "4.0%\t4000\t0:07\n",
      "5.0%\t5000\t0:06\n",
      "6.0%\t6000\t0:06\n",
      "7.0%\t7000\t0:06\n",
      "8.0%\t8000\t0:05\n",
      "9.0%\t9000\t0:05\n",
      "10.0%\t10000\t0:05\n",
      "11.0%\t11000\t0:05\n",
      "12.0%\t12000\t0:05\n",
      "13.0%\t13000\t0:05\n",
      "14.0%\t14000\t0:05\n",
      "15.0%\t15000\t0:04\n",
      "16.0%\t16000\t0:04\n",
      "17.0%\t17000\t0:04\n",
      "18.0%\t18000\t0:04\n",
      "19.0%\t19000\t0:04\n",
      "20.0%\t20000\t0:04\n",
      "21.0%\t21000\t0:04\n",
      "22.0%\t22000\t0:04\n",
      "23.0%\t23000\t0:04\n",
      "24.0%\t24000\t0:04\n",
      "25.0%\t25000\t0:04\n",
      "26.0%\t26000\t0:04\n",
      "27.0%\t27000\t0:04\n",
      "28.0%\t28000\t0:03\n",
      "29.0%\t29000\t0:03\n",
      "30.0%\t30000\t0:03\n",
      "31.0%\t31000\t0:03\n",
      "32.0%\t32000\t0:03\n",
      "33.0%\t33000\t0:03\n",
      "34.0%\t34000\t0:03\n",
      "35.0%\t35000\t0:03\n",
      "36.0%\t36000\t0:03\n",
      "37.0%\t37000\t0:03\n",
      "38.0%\t38000\t0:03\n",
      "39.0%\t39000\t0:03\n",
      "40.0%\t40000\t0:03\n",
      "41.0%\t41000\t0:03\n",
      "42.0%\t42000\t0:03\n",
      "43.0%\t43000\t0:03\n",
      "44.0%\t44000\t0:03\n",
      "45.0%\t45000\t0:03\n",
      "46.0%\t46000\t0:02\n",
      "47.0%\t47000\t0:02\n",
      "48.0%\t48000\t0:02\n",
      "49.0%\t49000\t0:02\n",
      "50.0%\t50000\t0:02\n",
      "51.0%\t51000\t0:02\n",
      "52.0%\t52000\t0:02\n",
      "53.0%\t53000\t0:02\n",
      "54.0%\t54000\t0:02\n",
      "55.0%\t55000\t0:02\n",
      "56.0%\t56000\t0:02\n",
      "57.0%\t57000\t0:02\n",
      "58.0%\t58000\t0:02\n",
      "59.0%\t59000\t0:02\n",
      "60.0%\t60000\t0:02\n",
      "61.0%\t61000\t0:02\n",
      "62.0%\t62000\t0:02\n",
      "63.0%\t63000\t0:02\n",
      "64.0%\t64000\t0:01\n",
      "65.0%\t65000\t0:01\n",
      "66.0%\t66000\t0:01\n",
      "67.0%\t67000\t0:01\n",
      "68.0%\t68000\t0:01\n",
      "69.0%\t69000\t0:01\n",
      "70.0%\t70000\t0:01\n",
      "71.0%\t71000\t0:01\n",
      "72.0%\t72000\t0:01\n",
      "73.0%\t73000\t0:01\n",
      "74.0%\t74000\t0:01\n",
      "75.0%\t75000\t0:01\n",
      "76.0%\t76000\t0:01\n",
      "77.0%\t77000\t0:01\n",
      "78.0%\t78000\t0:01\n",
      "79.0%\t79000\t0:01\n",
      "80.0%\t80000\t0:01\n",
      "81.0%\t81000\t0:01\n",
      "82.0%\t82000\t0:00\n",
      "83.0%\t83000\t0:00\n",
      "84.0%\t84000\t0:00\n",
      "85.0%\t85000\t0:00\n",
      "86.0%\t86000\t0:00\n",
      "87.0%\t87000\t0:00\n",
      "88.0%\t88000\t0:00\n",
      "89.0%\t89000\t0:00\n",
      "90.0%\t90000\t0:00\n",
      "91.0%\t91000\t0:00\n",
      "92.0%\t92000\t0:00\n",
      "93.0%\t93000\t0:00\n",
      "94.0%\t94000\t0:00\n",
      "95.0%\t95000\t0:00\n",
      "96.0%\t96000\t0:00\n",
      "97.0%\t97000\t0:00\n",
      "98.0%\t98000\t0:00\n",
      "99.0%\t99000\t0:00\n",
      "100.0%\t100000\t0:00\n"
     ]
    }
   ],
   "source": [
    "a.run(100000, report=True, interval=1000)"
   ]
  },
  {
   "cell_type": "code",
   "execution_count": null,
   "metadata": {},
   "outputs": [],
   "source": []
  }
 ],
 "metadata": {
  "kernelspec": {
   "display_name": "Python 3",
   "language": "python",
   "name": "python3"
  },
  "language_info": {
   "codemirror_mode": {
    "name": "ipython",
    "version": 3
   },
   "file_extension": ".py",
   "mimetype": "text/x-python",
   "name": "python",
   "nbconvert_exporter": "python",
   "pygments_lexer": "ipython3",
   "version": "3.7.4"
  }
 },
 "nbformat": 4,
 "nbformat_minor": 4
}
