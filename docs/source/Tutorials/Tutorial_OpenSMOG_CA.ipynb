{
 "cells": [
  {
   "cell_type": "markdown",
   "metadata": {},
   "source": [
    "### C-alpha Structure-based Model simulation using OpenSMOG\n",
    "\n",
    "This tutorial should take between 5 to 15 minutes of reading and performing simulations."
   ]
  },
  {
   "cell_type": "markdown",
   "metadata": {},
   "source": [
    "The first step is to import the **OpenSMOG** module"
   ]
  },
  {
   "cell_type": "code",
   "execution_count": null,
   "metadata": {},
   "outputs": [],
   "source": [
    "from OpenSMOG import SBM"
   ]
  },
  {
   "cell_type": "markdown",
   "metadata": {},
   "source": [
    "SBM class sets the initial parameters of the simulation: <br>\n",
    "\n",
    "`name=\"1hk0\"` Sets the name of each simulation *(this name is used as prefix for the outputs)*.  <br>\n",
    "`dt=0.002 ` (**picoseconds**) Sets the time step used in integration. <br>\n",
    "`gamma=1.0` (**picoseconds**) Sets the collision rate of Langevin integrator.  <br>\n",
    "`rcutoff=1.5` (**nanometers**) Sets the non-bonded cutoff. <br> \n",
    "`temperature=1.0` (**reduced units of temperature**) Sets the Temperature of the simulation. <br>\n",
    "\n",
    "sbm_CA is a chosen variable name for the SBM object"
   ]
  },
  {
   "cell_type": "code",
   "execution_count": null,
   "metadata": {},
   "outputs": [],
   "source": [
    "sbm_CA = SBM(name='1hk0', dt=0.002, gamma=1.0, rcutoff =1.5, temperature=1.0)"
   ]
  },
  {
   "cell_type": "markdown",
   "metadata": {},
   "source": [
    "There are three hardware platform options to run the simulations: \n",
    "\n",
    "`platform=\"cuda\"` <br>\n",
    "`platform=\"HIP\"` <br>\n",
    "`platform=\"opencl\"` <br>\n",
    "`platform=\"cpu\"` <br>\n",
    "\n",
    "if **cuda**, **opencl** or **HIP** is choosen the GPUindex can be define as \"0\" or \"0,1\" for multiples GPUS \n"
   ]
  },
  {
   "cell_type": "code",
   "execution_count": null,
   "metadata": {
    "tags": []
   },
   "outputs": [],
   "source": [
    "sbm_CA.setup_openmm(platform='cuda', GPUindex='default')"
   ]
  },
  {
   "cell_type": "markdown",
   "metadata": {},
   "source": [
    "Sets the directory name where to save the simulation outputs"
   ]
  },
  {
   "cell_type": "code",
   "execution_count": null,
   "metadata": {},
   "outputs": [],
   "source": [
    "sbm_CA.saveFolder('output')"
   ]
  },
  {
   "cell_type": "markdown",
   "metadata": {},
   "source": [
    "Load the **gro** file into the sbm_CA object\n",
    "\n",
    "in this tutorial all input files are in input folder"
   ]
  },
  {
   "cell_type": "code",
   "execution_count": null,
   "metadata": {},
   "outputs": [],
   "source": [
    "sbm_CA.loadGro('input/1hk0_CA.gro')"
   ]
  },
  {
   "cell_type": "markdown",
   "metadata": {},
   "source": [
    "Load the **top** file into the sbm_CA object "
   ]
  },
  {
   "cell_type": "code",
   "execution_count": null,
   "metadata": {},
   "outputs": [],
   "source": [
    "sbm_CA.loadTop('input/1hk0_CA.top')"
   ]
  },
  {
   "cell_type": "markdown",
   "metadata": {},
   "source": [
    "Load the **xml** file into the sbm_CA object\n",
    "\n",
    "This function returns the name of each force added.\n",
    "\n",
    "In this example, only the Lennard-Jones 10-12 potential is being applied."
   ]
  },
  {
   "cell_type": "code",
   "execution_count": null,
   "metadata": {},
   "outputs": [],
   "source": [
    "sbm_CA.loadXml('input/1hk0_CA.xml')"
   ]
  },
  {
   "cell_type": "markdown",
   "metadata": {},
   "source": [
    "The Simulation **context** is created with all information given in previous steps."
   ]
  },
  {
   "cell_type": "code",
   "execution_count": null,
   "metadata": {
    "tags": []
   },
   "outputs": [],
   "source": [
    "sbm_CA.createSimulation()"
   ]
  },
  {
   "cell_type": "markdown",
   "metadata": {},
   "source": [
    "Creates the **reporters** that will save the simulation data in output folder.\n",
    "\n",
    "`trajectory=True` Save the trajectory in .dcd format. <br>\n",
    "`energies=True` Save the energy in text format separated by a comma. <br>\n",
    "`dt_files=1000` The step interval to save both trajectory and energies data."
   ]
  },
  {
   "cell_type": "code",
   "execution_count": null,
   "metadata": {
    "tags": []
   },
   "outputs": [],
   "source": [
    "sbm_CA.createReporters(trajectory=True, energies=True, dt_files=1000)"
   ]
  },
  {
   "cell_type": "markdown",
   "metadata": {},
   "source": [
    "The `run` function receives the following parameters:\n",
    "\n",
    "`nsteps=10**7` Number os steps to perform the simulation. <br>\n",
    "`report=True` Shows the simulation details (Progress (%), Step and Time Remaining) <br>\n",
    "`interval=10**4` The step interval to show the details"
   ]
  },
  {
   "cell_type": "code",
   "execution_count": null,
   "metadata": {
    "scrolled": true,
    "tags": []
   },
   "outputs": [],
   "source": [
    "sbm_CA.run(nsteps=10**7, report=True, interval=10**4)"
   ]
  },
  {
   "cell_type": "markdown",
   "metadata": {},
   "source": [
    "The output files are located in the output folder"
   ]
  }
 ],
 "metadata": {
  "kernelspec": {
   "display_name": "Python 3",
   "language": "python",
   "name": "python3"
  },
  "language_info": {
   "codemirror_mode": {
    "name": "ipython",
    "version": 3
   },
   "file_extension": ".py",
   "mimetype": "text/x-python",
   "name": "python",
   "nbconvert_exporter": "python",
   "pygments_lexer": "ipython3",
   "version": "3.7.4"
  }
 },
 "nbformat": 4,
 "nbformat_minor": 5
}
