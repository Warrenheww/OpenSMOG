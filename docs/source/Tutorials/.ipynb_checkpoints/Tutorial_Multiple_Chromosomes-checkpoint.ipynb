{
 "cells": [
  {
   "cell_type": "markdown",
   "metadata": {},
   "source": [
    "### Multiple Chains: Chromatin Dynamics Simulations on Chromosome 10 and Chromosome 11 of GM12878 Cell Line"
   ]
  },
  {
   "cell_type": "markdown",
   "metadata": {},
   "source": [
    "This tutorial should take between 5 to 15 minutes of reading and performing simulations."
   ]
  },
  {
   "cell_type": "markdown",
   "metadata": {},
   "source": [
    "The first step is to import the **OpenMiChroM** module"
   ]
  },
  {
   "cell_type": "code",
   "execution_count": null,
   "metadata": {},
   "outputs": [],
   "source": [
    "from OpenMiChroM.ChromDynamics import MiChroM\n",
    "from OpenMiChroM.CndbTools import cndbTools"
   ]
  },
  {
   "cell_type": "markdown",
   "metadata": {},
   "source": [
    "`OpenMiChroM` allows the simulation of multiples chromosomes. <br> In this tutorial, the multiple chain simulation will be performed using the chromosomes 10 and 11 of the human GM12878 cell line.<br>\n",
    "The system is generated based on the collapsed structure of each chromosome. <br> This collapse step is similar to the one presented in the single chromosome simulation. <br> For each chromosome, the collapse simulation should be performed."
   ]
  },
  {
   "cell_type": "markdown",
   "metadata": {},
   "source": [
    "#### Chromosome 10 Collapse Simulation"
   ]
  },
  {
   "cell_type": "code",
   "execution_count": null,
   "metadata": {
    "scrolled": true,
    "tags": []
   },
   "outputs": [],
   "source": [
    "sim_chr10 = MiChroM(name=\"chr10\", temperature=1.0, time_step=0.01)\n",
    "sim_chr10.setup(platform=\"opencl\")\n",
    "sim_chr10.saveFolder('output_chr10_chr11')\n",
    "Chrom10 = sim_chr10.create_springSpiral(ChromSeq='inputs/chr10_beads.txt')\n",
    "sim_chr10.loadStructure(Chrom10, center=True)\n",
    "\n",
    "sim_chr10.addFENEBonds(kfb=30.0)\n",
    "sim_chr10.addAngles(ka=2.0)\n",
    "sim_chr10.addRepulsiveSoftCore(Ecut=4.0)\n",
    "sim_chr10.addFlatBottomHarmonic()\n",
    "\n",
    "sim_chr10.addTypetoType(mu=3.22, rc = 1.78)\n",
    "sim_chr10.addIdealChromosome(mu=3.22, rc = 1.78, dinit=3, dend=500)\n",
    "\n",
    "print(\"Performing chr10 simulation...\")\n",
    "for _ in range(1000):\n",
    "    sim_chr10.runSimBlock(500)\n",
    "\n",
    "sim_chr10.saveStructure(filename=\"chr10\" ,mode=\"ndb\")\n",
    "del sim_chr10"
   ]
  },
  {
   "cell_type": "markdown",
   "metadata": {},
   "source": [
    "#### Chromosome 11 Collapse Simulation"
   ]
  },
  {
   "cell_type": "code",
   "execution_count": null,
   "metadata": {
    "scrolled": true,
    "tags": []
   },
   "outputs": [],
   "source": [
    "sim_chr11 = MiChroM(name=\"chr11\", temperature=1.0, time_step=0.01)\n",
    "sim_chr11.setup(platform=\"opencl\")\n",
    "sim_chr11.saveFolder('output_chr10_chr11')\n",
    "Chrom11 = sim_chr11.create_springSpiral(ChromSeq='inputs/chr11_beads.txt')\n",
    "sim_chr11.loadStructure(Chrom11, center=True)\n",
    "\n",
    "sim_chr11.addFENEBonds(kfb=30.0)\n",
    "sim_chr11.addAngles(ka=2.0)\n",
    "sim_chr11.addRepulsiveSoftCore(Ecut=4.0)\n",
    "sim_chr11.addFlatBottomHarmonic()\n",
    "\n",
    "sim_chr11.addTypetoType(mu=3.22, rc = 1.78)\n",
    "sim_chr11.addIdealChromosome(mu=3.22, rc = 1.78, dinit=3, dend=500)\n",
    "\n",
    "print(\"Perform chr11 simulation...\")\n",
    "for _ in range(1000):\n",
    "    sim_chr11.runSimBlock(500)\n",
    "\n",
    "sim_chr11.saveStructure(filename=\"chr11\", mode=\"ndb\")\n",
    "del sim_chr11"
   ]
  },
  {
   "cell_type": "markdown",
   "metadata": {},
   "source": [
    "Once the collapse simulations are done, the collapsed structures of each chromosome should be included in the same simulation system."
   ]
  },
  {
   "cell_type": "code",
   "execution_count": null,
   "metadata": {},
   "outputs": [],
   "source": [
    "sim_chr10_chr11 = MiChroM(name=\"chr10_chr11\", temperature=1.0, time_step=0.01)"
   ]
  },
  {
   "cell_type": "code",
   "execution_count": null,
   "metadata": {},
   "outputs": [],
   "source": [
    "sim_chr10_chr11.setup(platform=\"opencl\")"
   ]
  },
  {
   "cell_type": "code",
   "execution_count": null,
   "metadata": {},
   "outputs": [],
   "source": [
    "sim_chr10_chr11.saveFolder('output_chr10_chr11')"
   ]
  },
  {
   "cell_type": "markdown",
   "metadata": {},
   "source": [
    "The function `loadNDB`  receives a list of files and saves the chromosome collapse structures in the variable Struc_chr10_chr11."
   ]
  },
  {
   "cell_type": "code",
   "execution_count": null,
   "metadata": {},
   "outputs": [],
   "source": [
    "Struc_chr10_chr11 = sim_chr10_chr11.loadNDB(NDBfiles=['output_chr10_chr11/chr10_0_block1000.ndb',\n",
    "                                   'output_chr10_chr11/chr11_0_block1000.ndb'])"
   ]
  },
  {
   "cell_type": "markdown",
   "metadata": {},
   "source": [
    "`Struc_chr10_chr11` contains the position of all beads for each chromosome.\n",
    "The variable `chains` shows information of each chromosome.<br> \n",
    "`(start,end,is_ring)`, `is_ring=0` represents a open chromosome chain and `is_ring=1` represents a circular polymer (used for simulating bacteria genome)."
   ]
  },
  {
   "cell_type": "markdown",
   "metadata": {},
   "source": [
    "Before loading the structures in the simulation context, it is necessary to distribute the chromosome chains.\n",
    "\n",
    "- This step is essential for randomizing the initial condition when simulating different replicas."
   ]
  },
  {
   "cell_type": "code",
   "execution_count": null,
   "metadata": {},
   "outputs": [],
   "source": [
    "Struc_chr10_chr11 = sim_chr10_chr11.setFibPosition(Struc_chr10_chr11, dist=(1.5,3.0))"
   ]
  },
  {
   "cell_type": "markdown",
   "metadata": {},
   "source": [
    "Load the chromosomes in the simulation context."
   ]
  },
  {
   "cell_type": "code",
   "execution_count": null,
   "metadata": {},
   "outputs": [],
   "source": [
    "sim_chr10_chr11.loadStructure(Struc_chr10_chr11, center=True)"
   ]
  },
  {
   "cell_type": "markdown",
   "metadata": {},
   "source": [
    "The initial distribution of the chromosome structures can be saved in [.ndb file format](https://ndb.rice.edu/ndb-format). The file is stored in the path given in `saveFolder`.\n",
    "\n",
    "- In the case of having multiple chains in the simulation context, the `saveStructure` function will save each structure separately, and each saved structure will have an index starting from 0 . In this tutorial, 0 is for chr10, and 1 is for chr11"
   ]
  },
  {
   "cell_type": "code",
   "execution_count": null,
   "metadata": {},
   "outputs": [],
   "source": [
    "sim_chr10_chr11.saveStructure(mode='ndb')"
   ]
  },
  {
   "cell_type": "markdown",
   "metadata": {},
   "source": [
    "The next step is to add the force field in the simulation object `sim_chr10_chr11`.\n",
    "\n",
    "In this tutorial, the forces are added in two sets:\n",
    "\n",
    "**MiChroM Homopolymer (Bonded) Potentials**  "
   ]
  },
  {
   "cell_type": "code",
   "execution_count": null,
   "metadata": {},
   "outputs": [],
   "source": [
    "sim_chr10_chr11.addFENEBonds(kfb=30.0)\n",
    "sim_chr10_chr11.addAngles(ka=2.0)\n",
    "sim_chr10_chr11.addRepulsiveSoftCore(Ecut=4.0)\n",
    "sim_chr10_chr11.addFlatBottomHarmonic(n_rad=20)"
   ]
  },
  {
   "cell_type": "markdown",
   "metadata": {},
   "source": [
    "**MiChroM non-Bonded Potentials**\n",
    "Differently from the single chromosome tutorial, here, each force is added separately"
   ]
  },
  {
   "cell_type": "markdown",
   "metadata": {},
   "source": [
    "The `addTypetoType` interaction is independent of the chromosome chain and only depends on the loci types. This potential is added for both chains simultaneously."
   ]
  },
  {
   "cell_type": "code",
   "execution_count": null,
   "metadata": {},
   "outputs": [],
   "source": [
    "sim_chr10_chr11.addTypetoType(mu=3.22, rc = 1.78)"
   ]
  },
  {
   "cell_type": "markdown",
   "metadata": {},
   "source": [
    "On the other hand, in the Ideal Chromossome potential, the forces need to be added for each chromosome separately.\n",
    "\n",
    "The function `addMultiChainIC` receives the chromosome chain and adds the IC potential.\n",
    "\n",
    "- The chromosome chain information can be obtained from the function `chains`. In this case, the data is retrieved from the object `sim_chr10_chr11.chains`.\n",
    "\n",
    "- The Ideal Chromosome potential was applied from the genomic distance d = 3 to d=500. The range values can be adjusted based on the chromosome length."
   ]
  },
  {
   "cell_type": "code",
   "execution_count": null,
   "metadata": {},
   "outputs": [],
   "source": [
    "sim_chr10_chr11.addMultiChainIC(chains=sim_chr10_chr11.chains[0], mu=3.22, rc = 1.78, dinit=3, dend=500)\n",
    "sim_chr10_chr11.addMultiChainIC(chains=sim_chr10_chr11.chains[1], mu=3.22, rc = 1.78, dinit=3, dend=500)"
   ]
  },
  {
   "cell_type": "markdown",
   "metadata": {},
   "source": [
    "**The simulation setup is complete!**\n",
    "\n",
    "To run the production simulation, it is necessary to initialize the .cndb file to save the chromatin dynamics trajectory.\n",
    "\n",
    "The files will be saved in the output folder defined using the `saveFolder` function.\n",
    "Each chromosome will be stored separately.   The same procedure is adopted when using the `saveStructure` function."
   ]
  },
  {
   "cell_type": "code",
   "execution_count": null,
   "metadata": {},
   "outputs": [],
   "source": [
    "sim_chr10_chr11.initStorage('traj_chr10_chr11', mode='w')"
   ]
  },
  {
   "cell_type": "markdown",
   "metadata": {},
   "source": [
    "Sets the parameters of the production simulations:\n",
    "\n",
    "$block = 5\\times10^2$ <br> \n",
    "$n\\_blocks = 2\\times10^3$ "
   ]
  },
  {
   "cell_type": "code",
   "execution_count": null,
   "metadata": {},
   "outputs": [],
   "source": [
    "block = 5*10**2\n",
    "n_blocks = 5*10**2"
   ]
  },
  {
   "cell_type": "code",
   "execution_count": null,
   "metadata": {
    "scrolled": true,
    "tags": []
   },
   "outputs": [],
   "source": [
    "for _ in range(n_blocks):\n",
    "    sim_chr10_chr11.runSimBlock(block) \n",
    "    sim_chr10_chr11.saveStructure()"
   ]
  },
  {
   "cell_type": "markdown",
   "metadata": {},
   "source": [
    "Once the simulation is performed, it is necessary to close the .cndb file to avoid losing the trajectory data."
   ]
  },
  {
   "cell_type": "code",
   "execution_count": null,
   "metadata": {},
   "outputs": [],
   "source": [
    "sim_chr10_chr11.storage[0].close() #close the cndb file for chr10\n",
    "sim_chr10_chr11.storage[1].close() #close the cndb file for chr11"
   ]
  },
  {
   "cell_type": "markdown",
   "metadata": {},
   "source": [
    "To visualize the chromosome's 3D structures in the standard visualization software for macromolecules, there are available scripts for converting the ndb/cndb file format to .pdb and .gro. For details, please check the [Nucleome Data Bank](https://ndb.rice.edu/ndb-format).\n",
    "\n",
    "The ndb plugin for visualizing the chromatin dynamics trajectories in VMD/Chimera/Pymol is under development."
   ]
  },
  {
   "cell_type": "code",
   "execution_count": null,
   "metadata": {},
   "outputs": [],
   "source": [
    "sim_chr10_chr11.saveStructure(mode=\"ndb\")"
   ]
  }
 ],
 "metadata": {
  "kernelspec": {
   "display_name": "Python 3",
   "language": "python",
   "name": "python3"
  },
  "language_info": {
   "codemirror_mode": {
    "name": "ipython",
    "version": 3
   },
   "file_extension": ".py",
   "mimetype": "text/x-python",
   "name": "python",
   "nbconvert_exporter": "python",
   "pygments_lexer": "ipython3",
   "version": "3.7.4"
  }
 },
 "nbformat": 4,
 "nbformat_minor": 4
}
