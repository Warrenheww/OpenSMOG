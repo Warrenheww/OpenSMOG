{
 "cells": [
  {
   "cell_type": "markdown",
   "metadata": {},
   "source": [
    "### Single Chain: Chromatin Dynamics Simulations on Chromosome 10 of GM12878 Cell Line"
   ]
  },
  {
   "cell_type": "markdown",
   "metadata": {},
   "source": [
    "This tutorial should take between 5 to 15 minutes of reading and performing simulations."
   ]
  },
  {
   "cell_type": "markdown",
   "metadata": {},
   "source": [
    "The first step is to import the **OpenMiChroM** module"
   ]
  },
  {
   "cell_type": "code",
   "execution_count": 1,
   "metadata": {},
   "outputs": [],
   "source": [
    "from OpenMiChroM.ChromDynamics import MiChroM\n",
    "from OpenMiChroM.CndbTools import cndbTools"
   ]
  },
  {
   "cell_type": "markdown",
   "metadata": {},
   "source": [
    "`MiChroM` class sets the initial parameters of the simulation:\n",
    "\n",
    "\n",
    "`time_step=0.01`(Simulation time step to perfom the integration) <br>\n",
    "`temperature=1.0` (Set the temperature of your simulation)<br>"
   ]
  },
  {
   "cell_type": "code",
   "execution_count": 2,
   "metadata": {},
   "outputs": [],
   "source": [
    "sim = MiChroM(temperature=1.0, time_step=0.01)"
   ]
  },
  {
   "cell_type": "markdown",
   "metadata": {},
   "source": [
    "There are three hardware platform options to run the simulations: \n",
    "```python\n",
    "platform=\"cuda\"\n",
    "platform=\"opencl\"\n",
    "platform=\"cpu\"\n",
    "```"
   ]
  },
  {
   "cell_type": "code",
   "execution_count": 3,
   "metadata": {},
   "outputs": [],
   "source": [
    "sim.setup(platform=\"opencl\") # Double-check CUDA installation in your system "
   ]
  },
  {
   "cell_type": "markdown",
   "metadata": {},
   "source": [
    "Sets the directory name where to save the simulation outputs"
   ]
  },
  {
   "cell_type": "code",
   "execution_count": 4,
   "metadata": {},
   "outputs": [],
   "source": [
    "sim.saveFolder('output_chr10')"
   ]
  },
  {
   "cell_type": "markdown",
   "metadata": {},
   "source": [
    "The next step is to load the chromatin type annotations sequence for chromosome 10  and generate an initial 3D structure to start the simulation.\n",
    "\n",
    "The first column should contain the locus index. The second column should have the locus type annotation. A template file of the chromatin sequence of types can be found [here](https://github.com/junioreif/OpenMiChroM/blob/main/Tutorials/inputs/chr10_beads.txt).<br>\n",
    "\n",
    "\n",
    "Here we set the chromosome polymer initial  3D configuration using the [create_springSpiral](https://open-michrom.readthedocs.io/en/latest/OpenMiChroM.html#OpenMiChroM.ChromDynamics.MiChroM.create_springSpiral) function.\n",
    "\n",
    "The loci positions are stored in the variable **Chrom10** as a NumPy array $[N:3]$, where $N$ is the number of beads. \n",
    "\n"
   ]
  },
  {
   "cell_type": "code",
   "execution_count": 5,
   "metadata": {},
   "outputs": [],
   "source": [
    "Chrom10 = sim.create_springSpiral(ChromSeq='inputs/chr10_beads.txt', isRing=False)"
   ]
  },
  {
   "cell_type": "code",
   "execution_count": 6,
   "metadata": {},
   "outputs": [
    {
     "name": "stdout",
     "output_type": "stream",
     "text": [
      "[[410.61654383 221.72955137 221.17249751]\n",
      " [410.62605506 222.10093022 222.10093022]\n",
      " [410.61654383 222.47230906 223.02936292]\n",
      " [410.5880139  222.84357838 223.95743532]\n",
      " [410.54047655 223.21462872 224.88478724]]\n"
     ]
    }
   ],
   "source": [
    "print(Chrom10[:5]) #Print the firsts five beads positions."
   ]
  },
  {
   "cell_type": "markdown",
   "metadata": {},
   "source": [
    "Load the initial structure into the `sim` object.\n",
    "\n",
    "The <code>center=True</code> moves your system to the origin."
   ]
  },
  {
   "cell_type": "code",
   "execution_count": 7,
   "metadata": {},
   "outputs": [],
   "source": [
    "sim.loadStructure(Chrom10, center=True)"
   ]
  },
  {
   "cell_type": "markdown",
   "metadata": {},
   "source": [
    "The chromosome 3D initial structure can be saved in [.ndb file format](https://ndb.rice.edu/ndb-format). The file is stored in the path given in `saveFolder`."
   ]
  },
  {
   "cell_type": "code",
   "execution_count": 8,
   "metadata": {},
   "outputs": [],
   "source": [
    "sim.saveStructure(mode = 'ndb')"
   ]
  },
  {
   "cell_type": "markdown",
   "metadata": {},
   "source": [
    "The next step is to add the force field in the simulation object `sim`.\n",
    "\n",
    "In this tutorial, the forces are added in two sets:\n",
    "\n",
    "**MiChroM Homopolymer (Bonded) Potentials**  "
   ]
  },
  {
   "cell_type": "code",
   "execution_count": 9,
   "metadata": {},
   "outputs": [],
   "source": [
    "sim.addFENEBonds(kfb=30.0)\n",
    "sim.addAngles(ka=2.0)\n",
    "sim.addRepulsiveSoftCore(Ecut=4.0)"
   ]
  },
  {
   "cell_type": "markdown",
   "metadata": {},
   "source": [
    "**MiChroM non-Bonded Potentials**"
   ]
  },
  {
   "cell_type": "code",
   "execution_count": 10,
   "metadata": {},
   "outputs": [],
   "source": [
    "sim.addTypetoType(mu=3.22, rc = 1.78)\n",
    "sim.addIdealChromosome(mu=3.22, rc = 1.78, dinit=3, dend=500)"
   ]
  },
  {
   "cell_type": "markdown",
   "metadata": {},
   "source": [
    "The last potential adds a spherical restraint to collapse the initial structure."
   ]
  },
  {
   "cell_type": "code",
   "execution_count": 11,
   "metadata": {},
   "outputs": [],
   "source": [
    "sim.addFlatBottomHarmonic( kr=5*10**-3, n_rad=15.0)"
   ]
  },
  {
   "cell_type": "markdown",
   "metadata": {},
   "source": [
    "Run a short simulation to generate a collapsed structure."
   ]
  },
  {
   "cell_type": "code",
   "execution_count": 12,
   "metadata": {},
   "outputs": [],
   "source": [
    "block = 3*10**2\n",
    "n_blocks = 2*10**3 "
   ]
  },
  {
   "cell_type": "markdown",
   "metadata": {},
   "source": [
    "Two variables control the chromatin dynamics simulations steps:\n",
    "\n",
    "`block`: The number of steps performed in each cycle (`n_blocks`)\n",
    "`n_blocks`: The number of blocks of the simulation. \n",
    "\n",
    "The initial collapse simulation will run for  $3\\times10^2 \\times  2\\times10^3 = 6\\times10^5$ steps."
   ]
  },
  {
   "cell_type": "code",
   "execution_count": null,
   "metadata": {
    "scrolled": true
   },
   "outputs": [
    {
     "name": "stdout",
     "output_type": "stream",
     "text": [
      "Number of exceptions: 2711\n",
      "adding force  FENEBond 0\n",
      "adding force  AngleForce 1\n",
      "Add exclusions for RepulsiveSoftCore force\n",
      "adding force  RepulsiveSoftCore 2\n",
      "Add exclusions for TypetoType force\n",
      "adding force  TypetoType 3\n",
      "Add exclusions for IdealChromosome force\n",
      "adding force  IdealChromosome 4\n",
      "adding force  FlatBottomHarmonic 5\n",
      "Positions... \n",
      " loaded!\n",
      "potential energy is 64.292802\n",
      "bl=0 pos[1]=[209.6 -10.2 -1.2] dr=0.60 t=0.0ps kin=1.30 pot=64.78 Rg=146.821 SPS=4026 \n",
      "bl=0 pos[1]=[208.5 -10.6 0.3] dr=1.11 t=0.0ps kin=1.88 pot=64.09 Rg=145.984 SPS=7552 \n",
      "bl=0 pos[1]=[206.9 -10.9 1.7] dr=1.46 t=0.0ps kin=2.34 pot=63.25 Rg=144.785 SPS=7928 \n",
      "bl=0 pos[1]=[205.9 -11.2 2.7] dr=1.68 t=0.0ps kin=2.64 pot=62.32 Rg=143.348 SPS=6993 \n",
      "bl=0 pos[1]=[203.6 -10.5 3.1] dr=1.83 t=0.0ps kin=2.91 pot=61.33 Rg=141.738 SPS=12394 \n",
      "bl=0 pos[1]=[202.0 -10.3 4.6] dr=1.93 t=0.0ps kin=3.11 pot=60.29 Rg=140.015 SPS=12277 \n",
      "bl=0 pos[1]=[200.2 -10.0 6.2] dr=1.97 t=0.0ps kin=3.17 pot=59.21 Rg=138.241 SPS=12027 \n",
      "bl=0 pos[1]=[197.3 -9.2 7.0] dr=2.01 t=0.0ps kin=3.24 pot=58.15 Rg=136.427 SPS=12636 \n",
      "bl=0 pos[1]=[194.1 -8.5 7.5] dr=2.02 t=0.0ps kin=3.31 pot=57.04 Rg=134.601 SPS=12119 \n",
      "bl=0 pos[1]=[192.1 -7.7 8.2] dr=2.04 t=0.0ps kin=3.31 pot=55.98 Rg=132.760 SPS=12212 \n",
      "bl=0 pos[1]=[189.2 -6.8 9.0] dr=2.03 t=0.0ps kin=3.30 pot=54.95 Rg=130.924 SPS=12692 \n",
      "bl=0 pos[1]=[186.7 -6.1 9.1] dr=2.03 t=0.0ps kin=3.26 pot=53.89 Rg=129.095 SPS=12357 \n",
      "bl=0 pos[1]=[183.0 -5.2 9.3] dr=1.99 t=0.0ps kin=3.21 pot=52.90 Rg=127.293 SPS=12059 \n",
      "bl=0 pos[1]=[180.1 -4.7 10.0] dr=1.99 t=0.0ps kin=3.18 pot=51.91 Rg=125.503 SPS=13035 \n",
      "bl=0 pos[1]=[177.6 -3.9 10.5] dr=1.96 t=0.0ps kin=3.12 pot=50.94 Rg=123.746 SPS=13094 \n",
      "bl=0 pos[1]=[174.7 -4.2 9.7] dr=1.94 t=0.0ps kin=3.10 pot=50.01 Rg=122.013 SPS=12080 \n",
      "bl=0 pos[1]=[172.2 -3.6 9.6] dr=1.95 t=0.0ps kin=3.08 pot=49.09 Rg=120.293 SPS=13508 \n",
      "bl=0 pos[1]=[170.2 -3.4 8.6] dr=1.94 t=0.0ps kin=3.09 pot=48.23 Rg=118.587 SPS=12072 \n",
      "bl=0 pos[1]=[167.9 -3.5 7.9] dr=1.92 t=0.0ps kin=3.05 pot=47.34 Rg=116.889 SPS=8357 \n",
      "bl=0 pos[1]=[165.1 -4.1 7.6] dr=1.89 t=0.0ps kin=2.94 pot=46.53 Rg=115.233 SPS=8310 \n",
      "bl=0 pos[1]=[161.9 -3.9 7.9] dr=1.86 t=0.0ps kin=2.92 pot=45.70 Rg=113.613 SPS=10947 \n",
      "bl=0 pos[1]=[159.1 -5.2 8.0] dr=1.84 t=0.0ps kin=2.86 pot=44.91 Rg=112.011 SPS=11682 \n",
      "bl=0 pos[1]=[155.4 -5.6 7.2] dr=1.80 t=0.0ps kin=2.79 pot=44.18 Rg=110.454 SPS=12046 \n",
      "bl=0 pos[1]=[152.3 -6.1 6.9] dr=1.78 t=0.0ps kin=2.76 pot=43.45 Rg=108.921 SPS=12873 \n",
      "bl=0 pos[1]=[149.3 -5.7 6.9] dr=1.77 t=0.0ps kin=2.76 pot=42.73 Rg=107.407 SPS=11841 \n",
      "bl=0 pos[1]=[145.9 -4.9 8.3] dr=1.75 t=0.0ps kin=2.69 pot=42.07 Rg=105.920 SPS=13272 \n",
      "bl=0 pos[1]=[143.1 -4.1 9.0] dr=1.72 t=0.0ps kin=2.64 pot=41.42 Rg=104.473 SPS=10876 \n",
      "bl=0 pos[1]=[140.1 -4.1 9.8] dr=1.70 t=0.0ps kin=2.64 pot=40.76 Rg=103.046 SPS=12944 \n",
      "bl=0 pos[1]=[137.1 -4.4 10.1] dr=1.68 t=0.0ps kin=2.59 pot=40.14 Rg=101.635 SPS=12643 \n",
      "bl=0 pos[1]=[135.0 -4.6 9.6] dr=1.68 t=0.0ps kin=2.57 pot=39.50 Rg=100.243 SPS=11237 \n",
      "bl=0 pos[1]=[132.8 -4.0 10.0] dr=1.64 t=0.0ps kin=2.49 pot=38.93 Rg=98.886 SPS=13376 \n",
      "bl=0 pos[1]=[131.6 -3.6 10.9] dr=1.61 t=0.0ps kin=2.47 pot=38.38 Rg=97.559 SPS=10820 \n",
      "bl=0 pos[1]=[129.3 -3.6 12.2] dr=1.59 t=0.0ps kin=2.45 pot=37.83 Rg=96.258 SPS=12537 \n",
      "bl=0 pos[1]=[127.5 -3.4 12.1] dr=1.58 t=0.0ps kin=2.42 pot=37.29 Rg=94.978 SPS=10913 \n",
      "bl=0 pos[1]=[125.4 -4.0 11.1] dr=1.57 t=0.0ps kin=2.34 pot=36.79 Rg=93.708 SPS=12042 \n",
      "bl=0 pos[1]=[124.5 -4.2 10.8] dr=1.55 t=0.0ps kin=2.33 pot=36.26 Rg=92.461 SPS=12088 \n",
      "bl=0 pos[1]=[123.2 -3.3 11.5] dr=1.54 t=0.0ps kin=2.33 pot=35.77 Rg=91.233 SPS=11390 \n",
      "bl=0 pos[1]=[122.1 -3.2 11.9] dr=1.51 t=0.0ps kin=2.28 pot=35.34 Rg=90.038 SPS=13562 \n",
      "bl=0 pos[1]=[120.6 -3.4 11.5] dr=1.48 t=0.0ps kin=2.28 pot=34.87 Rg=88.875 SPS=11857 \n",
      "bl=0 pos[1]=[118.8 -3.9 11.3] dr=1.49 t=0.0ps kin=2.25 pot=34.43 Rg=87.714 SPS=12691 \n",
      "bl=0 pos[1]=[117.1 -3.9 10.9] dr=1.47 t=0.0ps kin=2.25 pot=34.03 Rg=86.565 SPS=11992 \n",
      "bl=0 pos[1]=[115.5 -3.5 10.9] dr=1.47 t=0.0ps kin=2.22 pot=33.62 Rg=85.412 SPS=11225 \n",
      "bl=0 pos[1]=[113.9 -3.3 10.7] dr=1.47 t=0.0ps kin=2.22 pot=33.19 Rg=84.265 SPS=10910 \n",
      "bl=0 pos[1]=[113.9 -2.6 9.9] dr=1.44 t=0.0ps kin=2.16 pot=32.80 Rg=83.154 SPS=12692 \n",
      "bl=0 pos[1]=[112.3 -1.9 9.7] dr=1.43 t=0.0ps kin=2.17 pot=32.42 Rg=82.066 SPS=10505 \n",
      "bl=0 pos[1]=[111.3 -1.4 9.6] dr=1.41 t=0.0ps kin=2.14 pot=32.04 Rg=81.003 SPS=12574 \n",
      "bl=0 pos[1]=[108.7 -1.3 10.6] dr=1.38 t=0.0ps kin=2.05 pot=31.72 Rg=79.976 SPS=12193 \n",
      "bl=0 pos[1]=[106.4 -0.5 11.0] dr=1.37 t=0.0ps kin=2.05 pot=31.35 Rg=78.971 SPS=11973 \n",
      "bl=0 pos[1]=[104.3 -0.3 9.9] dr=1.34 t=0.0ps kin=2.02 pot=31.02 Rg=77.999 SPS=11456 \n",
      "bl=0 pos[1]=[102.3 0.1 9.3] dr=1.32 t=0.0ps kin=2.01 pot=30.71 Rg=77.049 SPS=12789 \n",
      "bl=0 pos[1]=[99.7 -0.0 9.1] dr=1.31 t=0.0ps kin=1.96 pot=30.42 Rg=76.117 SPS=11610 \n",
      "bl=0 pos[1]=[96.9 -0.9 8.6] dr=1.30 t=0.0ps kin=1.99 pot=30.08 Rg=75.180 SPS=11648 \n",
      "bl=0 pos[1]=[95.0 -1.9 8.4] dr=1.31 t=0.0ps kin=2.01 pot=29.80 Rg=74.231 SPS=11018 \n",
      "bl=0 pos[1]=[93.9 -2.8 8.9] dr=1.31 t=0.0ps kin=1.99 pot=29.52 Rg=73.287 SPS=12912 \n",
      "bl=0 pos[1]=[92.6 -2.7 8.7] dr=1.31 t=0.0ps kin=1.96 pot=29.22 Rg=72.345 SPS=12737 \n",
      "bl=0 pos[1]=[92.8 -2.8 8.6] dr=1.29 t=0.0ps kin=1.97 pot=28.99 Rg=71.424 SPS=11195 \n",
      "bl=0 pos[1]=[92.0 -3.5 8.5] dr=1.28 t=0.0ps kin=1.95 pot=28.70 Rg=70.516 SPS=11684 \n",
      "bl=0 pos[1]=[90.9 -3.4 9.2] dr=1.27 t=0.0ps kin=1.92 pot=28.46 Rg=69.625 SPS=11085 \n",
      "bl=0 pos[1]=[90.7 -2.9 9.2] dr=1.24 t=0.0ps kin=1.87 pot=28.20 Rg=68.755 SPS=11210 \n",
      "bl=0 pos[1]=[89.4 -2.3 8.5] dr=1.23 t=0.0ps kin=1.91 pot=27.95 Rg=67.897 SPS=13010 \n",
      "bl=0 pos[1]=[88.3 -1.4 7.4] dr=1.22 t=0.0ps kin=1.87 pot=27.76 Rg=67.066 SPS=12202 \n",
      "bl=0 pos[1]=[86.0 -0.4 7.2] dr=1.22 t=0.0ps kin=1.88 pot=27.50 Rg=66.253 SPS=12267 \n",
      "bl=0 pos[1]=[85.5 -0.4 6.8] dr=1.20 t=0.0ps kin=1.87 pot=27.33 Rg=65.446 SPS=10236 \n",
      "bl=0 pos[1]=[85.2 -1.2 7.3] dr=1.20 t=0.0ps kin=1.87 pot=27.09 Rg=64.656 SPS=12049 \n",
      "bl=0 pos[1]=[83.8 -0.3 7.1] dr=1.18 t=0.0ps kin=1.81 pot=26.91 Rg=63.884 SPS=12238 \n",
      "bl=0 pos[1]=[82.9 -1.0 6.8] dr=1.17 t=0.0ps kin=1.80 pot=26.69 Rg=63.129 SPS=12842 \n",
      "bl=0 pos[1]=[82.3 -1.3 7.6] dr=1.15 t=0.0ps kin=1.77 pot=26.51 Rg=62.395 SPS=11371 \n",
      "bl=0 pos[1]=[80.7 -2.6 8.0] dr=1.15 t=0.0ps kin=1.79 pot=26.32 Rg=61.661 SPS=11816 \n",
      "bl=0 pos[1]=[78.5 -3.3 7.3] dr=1.16 t=0.0ps kin=1.77 pot=26.13 Rg=60.923 SPS=12330 \n",
      "bl=0 pos[1]=[77.6 -3.3 7.5] dr=1.14 t=0.0ps kin=1.74 pot=25.96 Rg=60.203 SPS=11824 \n",
      "bl=0 pos[1]=[76.5 -3.1 7.7] dr=1.13 t=0.0ps kin=1.76 pot=25.80 Rg=59.491 SPS=11669 \n",
      "bl=0 pos[1]=[75.5 -2.0 8.3] dr=1.13 t=0.0ps kin=1.75 pot=25.64 Rg=58.798 SPS=11377 \n",
      "bl=0 pos[1]=[75.7 -2.5 9.7] dr=1.10 t=0.0ps kin=1.72 pot=25.50 Rg=58.125 SPS=11850 \n",
      "bl=0 pos[1]=[75.7 -2.0 8.6] dr=1.11 t=0.0ps kin=1.73 pot=25.34 Rg=57.452 SPS=13230 \n",
      "bl=0 pos[1]=[75.7 -2.3 8.1] dr=1.10 t=0.0ps kin=1.75 pot=25.21 Rg=56.775 SPS=11754 \n",
      "bl=0 pos[1]=[75.1 -3.1 7.2] dr=1.11 t=0.0ps kin=1.77 pot=25.06 Rg=56.111 SPS=13471 \n",
      "bl=0 pos[1]=[74.3 -3.0 6.3] dr=1.10 t=0.0ps kin=1.73 pot=24.92 Rg=55.455 SPS=10945 \n",
      "bl=0 pos[1]=[73.2 -2.3 5.5] dr=1.10 t=0.0ps kin=1.76 pot=24.72 Rg=54.811 SPS=11775 \n",
      "bl=0 pos[1]=[70.5 -2.0 5.0] dr=1.08 t=0.0ps kin=1.73 pot=24.64 Rg=54.168 SPS=12258 \n",
      "bl=0 pos[1]=[68.7 -2.0 5.4] dr=1.07 t=0.0ps kin=1.76 pot=24.46 Rg=53.539 SPS=11413 \n",
      "bl=0 pos[1]=[67.1 -2.6 6.5] dr=1.08 t=0.0ps kin=1.76 pot=24.33 Rg=52.921 SPS=13065 \n",
      "bl=0 pos[1]=[66.1 -2.6 7.7] dr=1.07 t=0.0ps kin=1.72 pot=24.24 Rg=52.325 SPS=12199 \n",
      "bl=0 pos[1]=[65.3 -2.3 8.1] dr=1.06 t=0.0ps kin=1.70 pot=24.12 Rg=51.747 SPS=13376 \n",
      "bl=0 pos[1]=[64.5 -2.8 9.0] dr=1.04 t=0.0ps kin=1.69 pot=24.03 Rg=51.186 SPS=10675 \n",
      "bl=0 pos[1]=[64.0 -2.0 9.2] dr=1.04 t=0.0ps kin=1.69 pot=23.90 Rg=50.624 SPS=10181 \n",
      "bl=0 pos[1]=[64.0 -3.0 9.2] dr=1.04 t=0.0ps kin=1.70 pot=23.80 Rg=50.056 SPS=11631 \n",
      "bl=0 pos[1]=[63.8 -3.2 9.3] dr=1.03 t=0.0ps kin=1.68 pot=23.70 Rg=49.506 SPS=11800 \n",
      "bl=0 pos[1]=[63.2 -4.2 8.5] dr=1.01 t=0.0ps kin=1.67 pot=23.60 Rg=48.958 SPS=10484 \n",
      "bl=0 pos[1]=[61.6 -5.4 7.8] dr=1.01 t=0.0ps kin=1.69 pot=23.47 Rg=48.431 SPS=11111 \n",
      "bl=0 pos[1]=[61.1 -5.8 7.3] dr=1.01 t=0.0ps kin=1.64 pot=23.43 Rg=47.904 SPS=11326 \n",
      "bl=0 pos[1]=[59.9 -5.4 7.0] dr=1.01 t=0.0ps kin=1.66 pot=23.30 Rg=47.366 SPS=10017 \n",
      "bl=0 pos[1]=[58.3 -4.9 6.9] dr=0.99 t=0.0ps kin=1.66 pot=23.22 Rg=46.838 SPS=11238 \n",
      "bl=0 pos[1]=[58.0 -5.2 6.7] dr=1.01 t=0.0ps kin=1.65 pot=23.13 Rg=46.316 SPS=10000 \n",
      "bl=0 pos[1]=[57.6 -4.6 7.6] dr=1.02 t=0.0ps kin=1.64 pot=23.02 Rg=45.791 SPS=11016 \n",
      "bl=0 pos[1]=[56.4 -4.6 8.2] dr=1.01 t=0.0ps kin=1.65 pot=22.92 Rg=45.290 SPS=11375 \n",
      "bl=0 pos[1]=[56.2 -4.9 8.4] dr=1.00 t=0.0ps kin=1.63 pot=22.84 Rg=44.803 SPS=11266 \n",
      "bl=0 pos[1]=[56.1 -4.5 9.3] dr=0.99 t=0.0ps kin=1.65 pot=22.76 Rg=44.308 SPS=13128 \n",
      "bl=0 pos[1]=[55.4 -4.2 9.8] dr=1.00 t=0.0ps kin=1.71 pot=22.69 Rg=43.811 SPS=11747 \n",
      "bl=0 pos[1]=[55.0 -3.2 9.5] dr=1.00 t=0.0ps kin=1.66 pot=22.62 Rg=43.321 SPS=10750 \n",
      "bl=0 pos[1]=[54.7 -1.1 9.7] dr=0.99 t=0.0ps kin=1.66 pot=22.52 Rg=42.839 SPS=10173 \n",
      "bl=0 pos[1]=[52.7 -0.7 9.5] dr=0.98 t=0.0ps kin=1.65 pot=22.45 Rg=42.373 SPS=11523 \n",
      "bl=0 pos[1]=[51.5 -1.4 10.4] dr=0.98 t=0.0ps kin=1.62 pot=22.39 Rg=41.914 SPS=11684 \n",
      "bl=0 pos[1]=[50.1 -1.8 9.7] dr=0.98 t=0.0ps kin=1.61 pot=22.33 Rg=41.452 SPS=10913 \n",
      "bl=0 pos[1]=[48.8 -2.0 9.2] dr=0.96 t=0.0ps kin=1.61 pot=22.21 Rg=41.007 SPS=10456 \n",
      "bl=0 pos[1]=[49.2 -1.6 9.5] dr=0.94 t=0.0ps kin=1.59 pot=22.18 Rg=40.599 SPS=9221 \n",
      "bl=0 pos[1]=[49.5 -2.6 8.5] dr=0.95 t=0.0ps kin=1.58 pot=22.11 Rg=40.196 SPS=11861 \n",
      "bl=0 pos[1]=[48.7 -3.2 8.2] dr=0.94 t=0.0ps kin=1.57 pot=22.04 Rg=39.796 SPS=9137 \n",
      "bl=0 pos[1]=[48.0 -3.1 8.3] dr=0.93 t=0.0ps kin=1.56 pot=22.00 Rg=39.407 SPS=10906 \n",
      "bl=0 pos[1]=[46.9 -4.4 8.6] dr=0.94 t=0.0ps kin=1.57 pot=21.94 Rg=39.022 SPS=9423 \n",
      "bl=0 pos[1]=[45.4 -5.1 7.2] dr=0.92 t=0.0ps kin=1.56 pot=21.89 Rg=38.644 SPS=11198 \n",
      "bl=0 pos[1]=[44.0 -5.4 6.0] dr=0.90 t=0.0ps kin=1.57 pot=21.84 Rg=38.272 SPS=9461 \n",
      "bl=0 pos[1]=[42.8 -5.4 5.9] dr=0.90 t=0.0ps kin=1.61 pot=21.81 Rg=37.911 SPS=11314 \n",
      "bl=0 pos[1]=[42.3 -6.0 5.8] dr=0.92 t=0.0ps kin=1.57 pot=21.77 Rg=37.554 SPS=9049 \n",
      "bl=0 pos[1]=[42.5 -6.3 5.9] dr=0.91 t=0.0ps kin=1.58 pot=21.70 Rg=37.210 SPS=9761 \n",
      "bl=0 pos[1]=[43.2 -5.4 5.7] dr=0.90 t=0.0ps kin=1.57 pot=21.66 Rg=36.866 SPS=10024 \n",
      "bl=0 pos[1]=[43.3 -4.3 3.3] dr=0.91 t=0.0ps kin=1.58 pot=21.59 Rg=36.523 SPS=10820 \n",
      "bl=0 pos[1]=[41.4 -3.7 3.0] dr=0.91 t=0.0ps kin=1.59 pot=21.54 Rg=36.202 SPS=11296 \n",
      "bl=0 pos[1]=[40.6 -3.0 3.1] dr=0.91 t=0.0ps kin=1.57 pot=21.53 Rg=35.881 SPS=10008 \n",
      "bl=0 pos[1]=[40.3 -2.8 2.5] dr=0.90 t=0.0ps kin=1.58 pot=21.47 Rg=35.557 SPS=10879 \n",
      "bl=0 pos[1]=[39.9 -2.6 2.1] dr=0.90 t=0.0ps kin=1.57 pot=21.45 Rg=35.232 SPS=10047 \n",
      "bl=0 pos[1]=[39.0 -2.4 2.6] dr=0.88 t=0.0ps kin=1.59 pot=21.41 Rg=34.928 SPS=9301 \n",
      "bl=0 pos[1]=[38.8 -1.8 2.5] dr=0.89 t=0.0ps kin=1.60 pot=21.37 Rg=34.619 SPS=11584 \n",
      "bl=0 pos[1]=[38.6 -0.8 3.4] dr=0.89 t=0.0ps kin=1.54 pot=21.33 Rg=34.316 SPS=9302 \n",
      "bl=0 pos[1]=[38.1 -1.0 3.1] dr=0.89 t=0.0ps kin=1.52 pot=21.30 Rg=34.042 SPS=9815 \n",
      "bl=0 pos[1]=[37.6 -1.5 2.3] dr=0.87 t=0.0ps kin=1.54 pot=21.25 Rg=33.772 SPS=9887 \n",
      "bl=0 pos[1]=[36.5 -1.1 2.4] dr=0.85 t=0.0ps kin=1.51 pot=21.23 Rg=33.494 SPS=10991 \n",
      "bl=0 pos[1]=[34.6 -1.1 1.9] dr=0.86 t=0.0ps kin=1.52 pot=21.18 Rg=33.189 SPS=11212 \n",
      "bl=0 pos[1]=[33.3 -0.9 3.2] dr=0.87 t=0.0ps kin=1.52 pot=21.12 Rg=32.885 SPS=10063 \n",
      "bl=0 pos[1]=[32.5 -1.2 3.7] dr=0.87 t=0.0ps kin=1.53 pot=21.08 Rg=32.586 SPS=9633 \n",
      "bl=0 pos[1]=[33.2 -2.2 4.7] dr=0.87 t=0.0ps kin=1.54 pot=21.04 Rg=32.283 SPS=9881 \n",
      "bl=0 pos[1]=[32.2 -1.5 5.2] dr=0.88 t=0.0ps kin=1.56 pot=21.02 Rg=31.975 SPS=10570 \n",
      "bl=0 pos[1]=[32.2 -1.4 5.5] dr=0.87 t=0.0ps kin=1.54 pot=20.98 Rg=31.688 SPS=11425 \n",
      "bl=0 pos[1]=[31.2 -1.3 5.1] dr=0.86 t=0.0ps kin=1.56 pot=20.93 Rg=31.403 SPS=10269 \n",
      "bl=0 pos[1]=[30.7 -1.5 4.0] dr=0.87 t=0.0ps kin=1.49 pot=20.96 Rg=31.126 SPS=10198 \n",
      "bl=0 pos[1]=[31.0 -1.4 3.7] dr=0.86 t=0.0ps kin=1.52 pot=20.93 Rg=30.854 SPS=11065 \n",
      "bl=0 pos[1]=[30.8 -1.3 4.3] dr=0.86 t=0.0ps kin=1.52 pot=20.90 Rg=30.601 SPS=9662 \n",
      "bl=0 pos[1]=[29.9 -1.2 3.9] dr=0.86 t=0.0ps kin=1.54 pot=20.89 Rg=30.359 SPS=9863 \n",
      "bl=0 pos[1]=[30.1 -0.9 3.9] dr=0.84 t=0.0ps kin=1.57 pot=20.83 Rg=30.109 SPS=10321 \n",
      "bl=0 pos[1]=[30.1 -0.4 4.1] dr=0.87 t=0.0ps kin=1.58 pot=20.83 Rg=29.846 SPS=10368 \n",
      "bl=0 pos[1]=[29.7 -0.1 4.4] dr=0.86 t=0.0ps kin=1.52 pot=20.79 Rg=29.589 SPS=9702 \n",
      "bl=0 pos[1]=[29.1 -0.4 3.9] dr=0.84 t=0.0ps kin=1.51 pot=20.79 Rg=29.341 SPS=10587 \n",
      "bl=0 pos[1]=[28.2 -1.0 4.3] dr=0.85 t=0.0ps kin=1.51 pot=20.75 Rg=29.107 SPS=9436 \n",
      "bl=0 pos[1]=[28.2 -0.8 4.4] dr=0.86 t=0.0ps kin=1.48 pot=20.76 Rg=28.871 SPS=10591 \n",
      "bl=0 pos[1]=[28.8 0.2 5.0] dr=0.85 t=0.0ps kin=1.54 pot=20.72 Rg=28.637 SPS=9638 \n",
      "bl=0 pos[1]=[28.6 0.2 4.4] dr=0.86 t=0.0ps kin=1.55 pot=20.70 Rg=28.398 SPS=10740 \n",
      "bl=0 pos[1]=[27.4 0.5 4.0] dr=0.86 t=0.0ps kin=1.56 pot=20.68 Rg=28.165 SPS=9144 \n",
      "bl=0 pos[1]=[25.9 0.4 4.1] dr=0.84 t=0.0ps kin=1.56 pot=20.65 Rg=27.948 SPS=8746 \n",
      "bl=0 pos[1]=[25.1 0.3 4.8] dr=0.83 t=0.0ps kin=1.54 pot=20.64 Rg=27.729 SPS=9277 \n",
      "bl=0 pos[1]=[25.1 0.6 4.4] dr=0.84 t=0.0ps kin=1.53 pot=20.63 Rg=27.518 SPS=10263 \n",
      "bl=0 pos[1]=[25.5 2.1 4.7] dr=0.83 t=0.0ps kin=1.51 pot=20.60 Rg=27.320 SPS=9682 \n",
      "bl=0 pos[1]=[25.7 1.7 5.5] dr=0.83 t=0.0ps kin=1.54 pot=20.58 Rg=27.117 SPS=9217 \n",
      "bl=0 pos[1]=[25.5 1.3 5.6] dr=0.82 t=0.0ps kin=1.49 pot=20.59 Rg=26.911 SPS=9778 \n",
      "bl=0 pos[1]=[24.5 1.0 5.8] dr=0.83 t=0.0ps kin=1.52 pot=20.56 Rg=26.718 SPS=8276 \n",
      "bl=0 pos[1]=[24.1 0.6 6.1] dr=0.84 t=0.0ps kin=1.55 pot=20.53 Rg=26.516 SPS=8263 \n",
      "bl=0 pos[1]=[24.2 -0.3 5.9] dr=0.83 t=0.0ps kin=1.51 pot=20.55 Rg=26.322 SPS=9685 \n",
      "bl=0 pos[1]=[23.9 0.8 5.0] dr=0.84 t=0.0ps kin=1.52 pot=20.50 Rg=26.113 SPS=9580 \n",
      "bl=0 pos[1]=[24.6 0.5 5.1] dr=0.81 t=0.0ps kin=1.52 pot=20.48 Rg=25.920 SPS=9084 \n",
      "bl=0 pos[1]=[25.1 -0.1 5.5] dr=0.82 t=0.0ps kin=1.52 pot=20.44 Rg=25.748 SPS=8721 \n",
      "bl=0 pos[1]=[24.3 0.3 5.9] dr=0.80 t=0.0ps kin=1.49 pot=20.46 Rg=25.574 SPS=9478 \n",
      "bl=0 pos[1]=[23.2 0.7 5.9] dr=0.81 t=0.0ps kin=1.51 pot=20.47 Rg=25.411 SPS=9915 \n",
      "bl=0 pos[1]=[23.1 0.5 5.5] dr=0.81 t=0.0ps kin=1.50 pot=20.44 Rg=25.253 SPS=8436 \n",
      "bl=0 pos[1]=[21.6 0.5 5.4] dr=0.81 t=0.0ps kin=1.47 pot=20.47 Rg=25.095 SPS=9640 \n",
      "bl=0 pos[1]=[21.3 0.7 6.2] dr=0.80 t=0.0ps kin=1.52 pot=20.41 Rg=24.936 SPS=9723 \n",
      "bl=0 pos[1]=[20.8 0.4 5.4] dr=0.81 t=0.0ps kin=1.50 pot=20.42 Rg=24.786 SPS=9957 \n",
      "bl=0 pos[1]=[21.1 0.1 5.9] dr=0.81 t=0.0ps kin=1.52 pot=20.42 Rg=24.657 SPS=10526 \n",
      "bl=0 pos[1]=[21.5 -0.8 6.1] dr=0.82 t=0.0ps kin=1.54 pot=20.40 Rg=24.522 SPS=9872 \n",
      "bl=0 pos[1]=[20.2 -0.0 4.9] dr=0.83 t=0.0ps kin=1.50 pot=20.39 Rg=24.363 SPS=9857 \n",
      "bl=0 pos[1]=[20.7 -0.1 3.1] dr=0.81 t=0.0ps kin=1.53 pot=20.33 Rg=24.208 SPS=9541 \n",
      "bl=0 pos[1]=[21.2 -0.5 2.1] dr=0.81 t=0.0ps kin=1.51 pot=20.32 Rg=24.052 SPS=9065 \n",
      "bl=0 pos[1]=[21.1 -1.5 1.6] dr=0.82 t=0.0ps kin=1.49 pot=20.33 Rg=23.899 SPS=9230 \n",
      "bl=0 pos[1]=[20.0 -2.2 2.1] dr=0.79 t=0.0ps kin=1.48 pot=20.34 Rg=23.743 SPS=8629 \n",
      "bl=0 pos[1]=[21.4 -2.1 2.9] dr=0.79 t=0.0ps kin=1.53 pot=20.34 Rg=23.583 SPS=10282 \n",
      "bl=0 pos[1]=[22.0 -1.9 2.7] dr=0.79 t=0.0ps kin=1.55 pot=20.31 Rg=23.419 SPS=8606 \n",
      "bl=0 pos[1]=[22.2 -2.7 2.3] dr=0.81 t=0.0ps kin=1.55 pot=20.28 Rg=23.258 SPS=8698 \n",
      "bl=0 pos[1]=[22.3 -2.8 2.6] dr=0.80 t=0.0ps kin=1.47 pot=20.33 Rg=23.083 SPS=9212 \n",
      "bl=0 pos[1]=[21.2 -4.0 3.2] dr=0.81 t=0.0ps kin=1.46 pot=20.31 Rg=22.905 SPS=9677 \n",
      "bl=0 pos[1]=[22.2 -4.3 2.6] dr=0.80 t=0.0ps kin=1.48 pot=20.28 Rg=22.745 SPS=8842 \n",
      "bl=0 pos[1]=[23.4 -2.5 2.6] dr=0.80 t=0.0ps kin=1.52 pot=20.27 Rg=22.604 SPS=9082 \n",
      "bl=0 pos[1]=[23.4 -2.7 3.2] dr=0.81 t=0.0ps kin=1.51 pot=20.28 Rg=22.460 SPS=10540 \n",
      "bl=0 pos[1]=[22.5 -3.3 3.2] dr=0.80 t=0.0ps kin=1.53 pot=20.23 Rg=22.335 SPS=9729 \n",
      "bl=0 pos[1]=[22.3 -3.2 3.1] dr=0.79 t=0.0ps kin=1.49 pot=20.23 Rg=22.237 SPS=8976 \n",
      "bl=0 pos[1]=[22.1 -2.6 3.4] dr=0.80 t=0.0ps kin=1.46 pot=20.27 Rg=22.142 SPS=9043 \n",
      "bl=0 pos[1]=[20.8 -2.4 5.1] dr=0.80 t=0.0ps kin=1.50 pot=20.23 Rg=22.041 SPS=9195 \n",
      "bl=0 pos[1]=[19.1 -1.9 4.4] dr=0.80 t=0.0ps kin=1.49 pot=20.23 Rg=21.955 SPS=8220 \n",
      "bl=0 pos[1]=[19.0 -1.1 3.8] dr=0.80 t=0.0ps kin=1.52 pot=20.23 Rg=21.854 SPS=9243 \n",
      "bl=0 pos[1]=[18.9 -0.8 3.3] dr=0.79 t=0.0ps kin=1.50 pot=20.24 Rg=21.735 SPS=9238 \n",
      "bl=0 pos[1]=[18.5 -0.5 4.0] dr=0.79 t=0.0ps kin=1.49 pot=20.19 Rg=21.618 SPS=8669 \n",
      "bl=0 pos[1]=[18.5 -2.3 3.3] dr=0.81 t=0.0ps kin=1.52 pot=20.20 Rg=21.501 SPS=9030 \n",
      "bl=0 pos[1]=[18.0 -1.6 2.4] dr=0.80 t=0.0ps kin=1.50 pot=20.23 Rg=21.400 SPS=10680 \n",
      "bl=0 pos[1]=[17.2 -1.4 2.8] dr=0.78 t=0.0ps kin=1.53 pot=20.24 Rg=21.298 SPS=9486 \n",
      "bl=0 pos[1]=[17.4 -0.1 2.5] dr=0.78 t=0.0ps kin=1.51 pot=20.21 Rg=21.197 SPS=8960 \n",
      "bl=0 pos[1]=[17.0 -0.8 1.5] dr=0.79 t=0.0ps kin=1.50 pot=20.20 Rg=21.104 SPS=10253 \n",
      "bl=0 pos[1]=[15.5 -1.8 1.7] dr=0.79 t=0.0ps kin=1.51 pot=20.18 Rg=21.007 SPS=8779 \n",
      "bl=0 pos[1]=[15.4 -3.1 2.7] dr=0.78 t=0.0ps kin=1.48 pot=20.20 Rg=20.889 SPS=8375 \n",
      "bl=0 pos[1]=[16.3 -2.3 3.8] dr=0.78 t=0.0ps kin=1.50 pot=20.18 Rg=20.783 SPS=9900 \n",
      "bl=0 pos[1]=[16.4 -1.9 3.4] dr=0.78 t=0.0ps kin=1.47 pot=20.19 Rg=20.686 SPS=9583 \n",
      "bl=0 pos[1]=[16.4 -2.8 3.1] dr=0.78 t=0.0ps kin=1.47 pot=20.20 Rg=20.601 SPS=9536 \n",
      "bl=0 pos[1]=[16.1 -4.4 2.8] dr=0.78 t=0.0ps kin=1.49 pot=20.16 Rg=20.539 SPS=9214 \n",
      "bl=0 pos[1]=[16.8 -5.4 1.9] dr=0.79 t=0.0ps kin=1.52 pot=20.14 Rg=20.477 SPS=8821 \n",
      "bl=0 pos[1]=[17.7 -4.6 1.3] dr=0.79 t=0.0ps kin=1.50 pot=20.18 Rg=20.391 SPS=8500 \n",
      "bl=0 pos[1]=[18.3 -3.1 1.9] dr=0.78 t=0.0ps kin=1.53 pot=20.13 Rg=20.301 SPS=9879 \n",
      "bl=0 pos[1]=[17.3 -1.8 2.1] dr=0.77 t=0.0ps kin=1.51 pot=20.14 Rg=20.216 SPS=8251 \n",
      "bl=0 pos[1]=[16.5 0.1 1.7] dr=0.78 t=0.0ps kin=1.53 pot=20.13 Rg=20.131 SPS=9456 \n",
      "bl=0 pos[1]=[15.1 0.8 -0.2] dr=0.78 t=0.0ps kin=1.52 pot=20.13 Rg=20.055 SPS=8685 \n",
      "bl=0 pos[1]=[14.5 2.1 -1.5] dr=0.77 t=0.0ps kin=1.48 pot=20.12 Rg=19.984 SPS=8447 \n",
      "bl=0 pos[1]=[14.4 4.0 -1.7] dr=0.78 t=0.0ps kin=1.49 pot=20.12 Rg=19.906 SPS=9445 \n",
      "bl=0 pos[1]=[13.2 4.6 -2.1] dr=0.77 t=0.0ps kin=1.47 pot=20.11 Rg=19.843 SPS=9408 \n",
      "bl=0 pos[1]=[14.0 4.6 -2.4] dr=0.77 t=0.0ps kin=1.51 pot=20.07 Rg=19.771 SPS=8783 \n",
      "bl=0 pos[1]=[13.3 4.9 -3.4] dr=0.77 t=0.0ps kin=1.49 pot=20.09 Rg=19.688 SPS=8958 \n",
      "bl=0 pos[1]=[13.8 5.5 -3.9] dr=0.78 t=0.0ps kin=1.51 pot=20.08 Rg=19.591 SPS=9593 \n",
      "bl=0 pos[1]=[13.4 4.9 -4.1] dr=0.78 t=0.0ps kin=1.50 pot=20.08 Rg=19.500 SPS=8288 \n",
      "bl=0 pos[1]=[12.9 3.8 -3.3] dr=0.78 t=0.0ps kin=1.48 pot=20.12 Rg=19.423 SPS=8511 \n",
      "bl=0 pos[1]=[12.7 3.7 -2.9] dr=0.78 t=0.0ps kin=1.47 pot=20.12 Rg=19.348 SPS=9085 \n",
      "bl=0 pos[1]=[12.4 3.7 -3.1] dr=0.78 t=0.0ps kin=1.49 pot=20.07 Rg=19.266 SPS=9878 \n",
      "bl=0 pos[1]=[12.1 3.2 -2.3] dr=0.77 t=0.0ps kin=1.47 pot=20.07 Rg=19.176 SPS=8843 \n",
      "bl=0 pos[1]=[12.3 2.6 -1.7] dr=0.78 t=0.0ps kin=1.49 pot=20.05 Rg=19.085 SPS=8036 \n",
      "bl=0 pos[1]=[12.9 2.1 -1.8] dr=0.77 t=0.0ps kin=1.48 pot=20.06 Rg=18.998 SPS=8792 \n",
      "bl=0 pos[1]=[13.0 2.1 -0.3] dr=0.77 t=0.0ps kin=1.48 pot=20.09 Rg=18.918 SPS=9159 \n",
      "bl=0 pos[1]=[13.2 2.0 -0.1] dr=0.78 t=0.0ps kin=1.51 pot=20.05 Rg=18.835 SPS=8752 \n",
      "bl=0 pos[1]=[13.2 2.4 -0.1] dr=0.79 t=0.0ps kin=1.48 pot=20.10 Rg=18.747 SPS=8743 \n",
      "bl=0 pos[1]=[12.0 2.8 -1.0] dr=0.77 t=0.0ps kin=1.51 pot=20.05 Rg=18.671 SPS=9556 \n",
      "bl=0 pos[1]=[11.8 3.8 -1.8] dr=0.77 t=0.0ps kin=1.53 pot=20.03 Rg=18.603 SPS=8231 \n",
      "bl=0 pos[1]=[11.9 4.5 -1.3] dr=0.78 t=0.0ps kin=1.50 pot=20.05 Rg=18.526 SPS=9081 \n",
      "bl=0 pos[1]=[13.4 3.6 -2.0] dr=0.78 t=0.0ps kin=1.51 pot=20.07 Rg=18.451 SPS=9056 \n",
      "bl=0 pos[1]=[12.6 4.1 -2.1] dr=0.77 t=0.0ps kin=1.55 pot=20.03 Rg=18.374 SPS=9645 \n",
      "bl=0 pos[1]=[12.4 3.7 -1.7] dr=0.78 t=0.0ps kin=1.53 pot=20.05 Rg=18.318 SPS=8742 \n",
      "bl=0 pos[1]=[12.9 3.8 -0.9] dr=0.78 t=0.0ps kin=1.52 pot=20.06 Rg=18.262 SPS=8837 \n",
      "bl=0 pos[1]=[13.3 3.9 -1.0] dr=0.78 t=0.0ps kin=1.51 pot=20.07 Rg=18.215 SPS=8836 \n",
      "bl=0 pos[1]=[14.0 4.4 -0.6] dr=0.80 t=0.0ps kin=1.52 pot=20.06 Rg=18.181 SPS=8159 \n",
      "bl=0 pos[1]=[12.6 4.6 -0.7] dr=0.79 t=0.0ps kin=1.52 pot=20.06 Rg=18.132 SPS=8196 \n",
      "bl=0 pos[1]=[12.7 4.1 -0.7] dr=0.77 t=0.0ps kin=1.51 pot=20.04 Rg=18.054 SPS=9509 \n",
      "bl=0 pos[1]=[12.9 4.4 -1.1] dr=0.77 t=0.0ps kin=1.52 pot=20.03 Rg=17.978 SPS=9038 \n",
      "bl=0 pos[1]=[12.9 3.1 -1.7] dr=0.79 t=0.0ps kin=1.51 pot=20.01 Rg=17.922 SPS=8879 \n",
      "bl=0 pos[1]=[12.5 4.0 -2.4] dr=0.77 t=0.0ps kin=1.51 pot=20.03 Rg=17.869 SPS=8157 \n",
      "bl=0 pos[1]=[11.9 4.6 -2.4] dr=0.76 t=0.0ps kin=1.48 pot=20.03 Rg=17.829 SPS=9178 \n",
      "bl=0 pos[1]=[12.6 3.4 -1.9] dr=0.78 t=0.0ps kin=1.49 pot=20.01 Rg=17.788 SPS=8453 \n",
      "bl=0 pos[1]=[13.3 2.9 -0.5] dr=0.77 t=0.0ps kin=1.51 pot=20.03 Rg=17.749 SPS=8555 \n",
      "bl=0 pos[1]=[12.5 1.8 -0.6] dr=0.78 t=0.0ps kin=1.50 pot=20.02 Rg=17.721 SPS=9170 \n",
      "bl=0 pos[1]=[11.6 2.4 -0.9] dr=0.76 t=0.0ps kin=1.50 pot=20.02 Rg=17.681 SPS=8619 \n",
      "bl=0 pos[1]=[12.1 2.8 -0.9] dr=0.75 t=0.0ps kin=1.46 pot=20.01 Rg=17.628 SPS=9331 \n",
      "bl=0 pos[1]=[11.8 3.5 -0.4] dr=0.76 t=0.0ps kin=1.49 pot=20.01 Rg=17.581 SPS=9382 \n",
      "bl=0 pos[1]=[10.9 2.5 -1.3] dr=0.77 t=0.0ps kin=1.48 pot=20.01 Rg=17.554 SPS=8447 \n",
      "bl=0 pos[1]=[11.2 2.2 -2.0] dr=0.77 t=0.0ps kin=1.48 pot=19.99 Rg=17.530 SPS=8994 \n",
      "bl=0 pos[1]=[11.4 1.3 -2.1] dr=0.77 t=0.0ps kin=1.51 pot=20.01 Rg=17.494 SPS=8183 \n",
      "bl=0 pos[1]=[11.3 1.9 -1.9] dr=0.76 t=0.0ps kin=1.47 pot=20.02 Rg=17.455 SPS=8463 \n",
      "bl=0 pos[1]=[11.6 2.3 -2.1] dr=0.76 t=0.0ps kin=1.47 pot=20.02 Rg=17.393 SPS=8524 \n",
      "bl=0 pos[1]=[11.9 4.6 -2.5] dr=0.78 t=0.0ps kin=1.48 pot=20.02 Rg=17.315 SPS=9317 \n",
      "bl=0 pos[1]=[12.0 5.5 -3.0] dr=0.77 t=0.0ps kin=1.49 pot=20.01 Rg=17.249 SPS=8934 \n",
      "bl=0 pos[1]=[11.6 5.2 -3.3] dr=0.75 t=0.0ps kin=1.47 pot=19.99 Rg=17.175 SPS=8498 \n",
      "bl=0 pos[1]=[10.5 6.0 -3.7] dr=0.75 t=0.0ps kin=1.46 pot=19.99 Rg=17.104 SPS=7951 \n",
      "bl=0 pos[1]=[9.5 5.4 -3.4] dr=0.74 t=0.0ps kin=1.46 pot=19.95 Rg=17.038 SPS=7633 \n",
      "bl=0 pos[1]=[9.2 6.0 -2.7] dr=0.75 t=0.0ps kin=1.49 pot=19.97 Rg=16.971 SPS=8462 \n",
      "bl=0 pos[1]=[9.9 6.9 -3.0] dr=0.76 t=0.0ps kin=1.53 pot=19.95 Rg=16.916 SPS=8675 \n",
      "bl=0 pos[1]=[10.1 7.8 -3.6] dr=0.78 t=0.0ps kin=1.51 pot=19.96 Rg=16.849 SPS=9186 \n",
      "bl=0 pos[1]=[11.1 7.6 -3.7] dr=0.77 t=0.0ps kin=1.52 pot=19.99 Rg=16.773 SPS=8815 \n",
      "bl=0 pos[1]=[10.9 7.6 -3.8] dr=0.75 t=0.0ps kin=1.51 pot=19.96 Rg=16.725 SPS=8714 \n",
      "bl=0 pos[1]=[10.6 7.9 -3.7] dr=0.78 t=0.0ps kin=1.48 pot=19.98 Rg=16.682 SPS=9222 \n",
      "bl=0 pos[1]=[10.1 7.7 -4.1] dr=0.76 t=0.0ps kin=1.50 pot=19.96 Rg=16.636 SPS=8214 \n",
      "bl=0 pos[1]=[9.7 7.8 -3.6] dr=0.78 t=0.0ps kin=1.49 pot=19.94 Rg=16.593 SPS=9470 \n",
      "bl=0 pos[1]=[9.7 8.1 -3.7] dr=0.77 t=0.0ps kin=1.47 pot=19.98 Rg=16.549 SPS=7925 \n",
      "bl=0 pos[1]=[9.1 7.6 -3.7] dr=0.78 t=0.0ps kin=1.48 pot=19.99 Rg=16.491 SPS=9125 \n",
      "bl=0 pos[1]=[9.9 7.1 -3.2] dr=0.76 t=0.0ps kin=1.44 pot=20.02 Rg=16.451 SPS=8504 \n",
      "bl=0 pos[1]=[10.0 7.7 -3.0] dr=0.77 t=0.0ps kin=1.52 pot=20.00 Rg=16.417 SPS=8821 \n",
      "bl=0 pos[1]=[9.9 8.1 -2.9] dr=0.77 t=0.0ps kin=1.50 pot=20.03 Rg=16.387 SPS=8823 \n",
      "bl=0 pos[1]=[10.1 8.0 -2.6] dr=0.77 t=0.0ps kin=1.51 pot=20.04 Rg=16.347 SPS=7877 \n",
      "bl=0 pos[1]=[10.1 8.2 -2.5] dr=0.78 t=0.0ps kin=1.53 pot=20.05 Rg=16.306 SPS=8040 \n",
      "bl=0 pos[1]=[8.7 8.7 -2.8] dr=0.80 t=0.0ps kin=1.53 pot=20.04 Rg=16.283 SPS=8873 \n",
      "bl=0 pos[1]=[8.7 8.6 -3.2] dr=0.78 t=0.0ps kin=1.47 pot=20.05 Rg=16.258 SPS=9138 \n",
      "bl=0 pos[1]=[8.3 7.5 -4.3] dr=0.77 t=0.0ps kin=1.51 pot=20.02 Rg=16.230 SPS=7830 \n",
      "bl=0 pos[1]=[7.9 6.4 -4.4] dr=0.78 t=0.0ps kin=1.52 pot=20.03 Rg=16.200 SPS=8844 \n",
      "bl=0 pos[1]=[7.8 6.8 -4.5] dr=0.78 t=0.0ps kin=1.50 pot=20.05 Rg=16.170 SPS=9211 \n",
      "bl=0 pos[1]=[8.9 6.0 -4.6] dr=0.78 t=0.0ps kin=1.53 pot=20.01 Rg=16.126 SPS=8542 \n",
      "bl=0 pos[1]=[9.0 5.4 -5.4] dr=0.78 t=0.0ps kin=1.52 pot=19.99 Rg=16.076 SPS=8634 \n",
      "bl=0 pos[1]=[8.9 5.2 -5.2] dr=0.75 t=0.0ps kin=1.49 pot=20.02 Rg=16.036 SPS=8501 \n",
      "bl=0 pos[1]=[9.3 4.9 -4.4] dr=0.76 t=0.0ps kin=1.50 pot=20.03 Rg=16.011 SPS=8936 \n",
      "bl=0 pos[1]=[8.7 4.8 -3.5] dr=0.78 t=0.0ps kin=1.48 pot=20.06 Rg=15.987 SPS=7819 \n",
      "bl=0 pos[1]=[8.7 5.2 -2.8] dr=0.76 t=0.0ps kin=1.53 pot=19.99 Rg=15.976 SPS=8844 \n",
      "bl=0 pos[1]=[8.9 4.3 -1.3] dr=0.77 t=0.0ps kin=1.52 pot=20.00 Rg=15.948 SPS=8890 \n",
      "bl=0 pos[1]=[9.1 3.1 -0.6] dr=0.76 t=0.0ps kin=1.51 pot=20.02 Rg=15.924 SPS=9064 \n",
      "bl=0 pos[1]=[10.0 3.2 -1.4] dr=0.77 t=0.0ps kin=1.54 pot=19.97 Rg=15.906 SPS=8687 \n",
      "bl=0 pos[1]=[8.6 3.9 -2.1] dr=0.79 t=0.0ps kin=1.52 pot=20.01 Rg=15.886 SPS=8513 \n",
      "bl=0 pos[1]=[7.5 5.1 -2.4] dr=0.77 t=0.0ps kin=1.50 pot=20.02 Rg=15.863 SPS=7978 \n",
      "bl=0 pos[1]=[7.9 7.1 -2.4] dr=0.76 t=0.0ps kin=1.50 pot=19.98 Rg=15.833 SPS=8682 \n",
      "bl=0 pos[1]=[8.5 6.7 -2.6] dr=0.76 t=0.0ps kin=1.49 pot=19.95 Rg=15.819 SPS=8333 \n",
      "bl=0 pos[1]=[9.8 5.9 -2.6] dr=0.76 t=0.0ps kin=1.51 pot=19.98 Rg=15.806 SPS=8788 \n",
      "bl=0 pos[1]=[10.5 6.7 -2.5] dr=0.76 t=0.0ps kin=1.50 pot=19.99 Rg=15.780 SPS=9300 \n",
      "bl=0 pos[1]=[10.0 6.8 -3.0] dr=0.76 t=0.0ps kin=1.47 pot=19.97 Rg=15.784 SPS=9030 \n",
      "bl=0 pos[1]=[9.2 8.1 -2.9] dr=0.75 t=0.0ps kin=1.46 pot=19.99 Rg=15.797 SPS=7837 \n",
      "bl=0 pos[1]=[9.1 7.3 -2.1] dr=0.76 t=0.0ps kin=1.47 pot=19.99 Rg=15.798 SPS=7418 \n",
      "bl=0 pos[1]=[10.3 7.0 -2.2] dr=0.78 t=0.0ps kin=1.50 pot=19.99 Rg=15.788 SPS=8091 \n",
      "bl=0 pos[1]=[9.3 8.2 -2.6] dr=0.77 t=0.0ps kin=1.51 pot=20.00 Rg=15.786 SPS=8747 \n",
      "bl=0 pos[1]=[8.3 7.4 -2.9] dr=0.78 t=0.0ps kin=1.51 pot=19.98 Rg=15.781 SPS=8224 \n",
      "bl=0 pos[1]=[9.6 7.2 -3.1] dr=0.76 t=0.0ps kin=1.49 pot=20.00 Rg=15.776 SPS=8649 \n",
      "bl=0 pos[1]=[10.5 7.4 -2.6] dr=0.76 t=0.0ps kin=1.48 pot=20.03 Rg=15.763 SPS=8838 \n",
      "bl=0 pos[1]=[10.2 6.6 -2.1] dr=0.77 t=0.0ps kin=1.52 pot=19.98 Rg=15.744 SPS=9191 \n",
      "bl=0 pos[1]=[9.4 7.2 -1.5] dr=0.76 t=0.0ps kin=1.46 pot=20.00 Rg=15.713 SPS=8929 \n",
      "bl=0 pos[1]=[9.7 7.5 -1.5] dr=0.76 t=0.0ps kin=1.48 pot=19.98 Rg=15.691 SPS=8466 \n",
      "bl=0 pos[1]=[9.6 8.4 -1.3] dr=0.76 t=0.0ps kin=1.51 pot=19.99 Rg=15.661 SPS=8327 \n",
      "bl=0 pos[1]=[9.5 7.6 -2.5] dr=0.77 t=0.0ps kin=1.53 pot=19.99 Rg=15.635 SPS=8149 \n",
      "bl=0 pos[1]=[9.0 7.9 -2.0] dr=0.77 t=0.0ps kin=1.51 pot=20.00 Rg=15.610 SPS=8712 \n",
      "bl=0 pos[1]=[9.5 8.2 -1.7] dr=0.76 t=0.0ps kin=1.49 pot=20.01 Rg=15.579 SPS=9212 \n",
      "bl=0 pos[1]=[10.3 8.3 -1.1] dr=0.77 t=0.0ps kin=1.50 pot=19.98 Rg=15.537 SPS=7882 \n",
      "bl=0 pos[1]=[10.6 8.4 -1.0] dr=0.77 t=0.0ps kin=1.51 pot=20.01 Rg=15.493 SPS=8498 \n",
      "bl=0 pos[1]=[10.7 8.1 -1.2] dr=0.77 t=0.0ps kin=1.48 pot=20.02 Rg=15.458 SPS=8473 \n",
      "bl=0 pos[1]=[10.7 8.3 -0.3] dr=0.77 t=0.0ps kin=1.51 pot=20.01 Rg=15.419 SPS=8441 \n",
      "bl=0 pos[1]=[10.5 8.6 -0.3] dr=0.78 t=0.0ps kin=1.54 pot=19.97 Rg=15.366 SPS=8732 \n",
      "bl=0 pos[1]=[10.8 9.0 -0.4] dr=0.79 t=0.0ps kin=1.53 pot=19.96 Rg=15.313 SPS=8032 \n",
      "bl=0 pos[1]=[11.6 8.3 -0.3] dr=0.77 t=0.0ps kin=1.50 pot=19.97 Rg=15.272 SPS=8835 \n",
      "bl=0 pos[1]=[11.3 8.8 -0.3] dr=0.77 t=0.0ps kin=1.54 pot=19.95 Rg=15.232 SPS=8639 \n",
      "bl=0 pos[1]=[11.0 8.1 -0.9] dr=0.77 t=0.0ps kin=1.57 pot=19.95 Rg=15.183 SPS=8710 \n",
      "bl=0 pos[1]=[10.8 8.1 -0.8] dr=0.77 t=0.0ps kin=1.54 pot=19.97 Rg=15.140 SPS=8442 \n",
      "bl=0 pos[1]=[10.9 7.9 -0.8] dr=0.77 t=0.0ps kin=1.49 pot=20.00 Rg=15.093 SPS=8232 \n",
      "bl=0 pos[1]=[10.9 8.1 -0.3] dr=0.75 t=0.0ps kin=1.52 pot=20.00 Rg=15.059 SPS=8255 \n",
      "bl=0 pos[1]=[11.5 8.1 0.4] dr=0.77 t=0.0ps kin=1.50 pot=20.02 Rg=15.027 SPS=8073 \n",
      "bl=0 pos[1]=[11.3 8.2 0.7] dr=0.76 t=0.0ps kin=1.51 pot=19.98 Rg=14.982 SPS=8597 \n",
      "bl=0 pos[1]=[10.7 8.4 0.5] dr=0.74 t=0.0ps kin=1.47 pot=19.99 Rg=14.929 SPS=7511 \n",
      "bl=0 pos[1]=[10.8 8.3 0.3] dr=0.76 t=0.0ps kin=1.49 pot=19.98 Rg=14.876 SPS=8546 \n",
      "bl=0 pos[1]=[10.5 8.2 0.0] dr=0.76 t=0.0ps kin=1.54 pot=19.99 Rg=14.829 SPS=8357 \n",
      "bl=0 pos[1]=[9.7 7.9 -0.3] dr=0.76 t=0.0ps kin=1.54 pot=19.99 Rg=14.804 SPS=8142 \n",
      "bl=0 pos[1]=[10.2 8.0 -0.2] dr=0.75 t=0.0ps kin=1.50 pot=20.00 Rg=14.778 SPS=6795 \n",
      "bl=0 pos[1]=[9.5 7.4 -0.8] dr=0.76 t=0.0ps kin=1.53 pot=19.94 Rg=14.733 SPS=6653 \n",
      "bl=0 pos[1]=[9.3 7.5 -1.4] dr=0.75 t=0.0ps kin=1.49 pot=19.94 Rg=14.681 SPS=6769 \n",
      "bl=0 pos[1]=[9.0 6.7 -1.4] dr=0.76 t=0.0ps kin=1.48 pot=19.97 Rg=14.643 SPS=6497 \n",
      "bl=0 pos[1]=[8.4 6.6 0.2] dr=0.76 t=0.0ps kin=1.49 pot=19.93 Rg=14.622 SPS=7724 \n",
      "bl=0 pos[1]=[8.3 6.3 -0.2] dr=0.76 t=0.0ps kin=1.45 pot=19.98 Rg=14.611 SPS=8548 \n",
      "bl=0 pos[1]=[8.6 6.1 -0.2] dr=0.75 t=0.0ps kin=1.52 pot=19.96 Rg=14.601 SPS=8421 \n",
      "bl=0 pos[1]=[9.2 6.6 -0.2] dr=0.77 t=0.0ps kin=1.50 pot=19.96 Rg=14.563 SPS=8530 \n",
      "bl=0 pos[1]=[9.3 6.7 -0.4] dr=0.78 t=0.0ps kin=1.52 pot=19.95 Rg=14.519 SPS=7040 \n",
      "bl=0 pos[1]=[9.6 7.2 -0.4] dr=0.77 t=0.0ps kin=1.48 pot=20.01 Rg=14.503 SPS=7741 \n",
      "bl=0 pos[1]=[9.5 7.8 -0.2] dr=0.77 t=0.0ps kin=1.56 pot=19.94 Rg=14.497 SPS=9159 \n",
      "bl=0 pos[1]=[9.6 7.4 0.1] dr=0.77 t=0.0ps kin=1.52 pot=19.96 Rg=14.487 SPS=8013 \n",
      "bl=0 pos[1]=[9.6 7.8 0.1] dr=0.77 t=0.0ps kin=1.53 pot=19.94 Rg=14.480 SPS=7591 \n",
      "bl=0 pos[1]=[9.6 8.1 0.5] dr=0.75 t=0.0ps kin=1.46 pot=19.95 Rg=14.475 SPS=8360 \n",
      "bl=0 pos[1]=[9.6 7.8 1.1] dr=0.76 t=0.0ps kin=1.48 pot=19.93 Rg=14.458 SPS=8397 \n",
      "bl=0 pos[1]=[9.3 7.9 1.1] dr=0.75 t=0.0ps kin=1.45 pot=19.94 Rg=14.441 SPS=8443 \n",
      "bl=0 pos[1]=[9.4 7.8 1.0] dr=0.75 t=0.0ps kin=1.54 pot=19.91 Rg=14.428 SPS=7914 \n",
      "bl=0 pos[1]=[8.9 7.3 0.6] dr=0.77 t=0.0ps kin=1.50 pot=19.97 Rg=14.401 SPS=8898 \n",
      "bl=0 pos[1]=[8.9 6.9 1.1] dr=0.76 t=0.0ps kin=1.49 pot=19.99 Rg=14.386 SPS=8455 \n",
      "bl=0 pos[1]=[8.8 7.8 0.5] dr=0.76 t=0.0ps kin=1.50 pot=19.96 Rg=14.366 SPS=8361 \n",
      "bl=0 pos[1]=[8.9 7.7 0.4] dr=0.76 t=0.0ps kin=1.47 pot=19.97 Rg=14.370 SPS=8305 \n",
      "bl=0 pos[1]=[8.2 6.6 0.1] dr=0.76 t=0.0ps kin=1.51 pot=19.96 Rg=14.391 SPS=8486 \n",
      "bl=0 pos[1]=[7.0 6.0 0.2] dr=0.76 t=0.0ps kin=1.48 pot=20.01 Rg=14.412 SPS=8197 \n",
      "bl=0 pos[1]=[6.6 4.5 -0.1] dr=0.76 t=0.0ps kin=1.50 pot=19.99 Rg=14.423 SPS=8114 \n",
      "bl=0 pos[1]=[7.0 4.4 -0.8] dr=0.76 t=0.0ps kin=1.52 pot=19.94 Rg=14.430 SPS=8124 \n",
      "bl=0 pos[1]=[6.4 3.9 -1.7] dr=0.76 t=0.0ps kin=1.51 pot=19.96 Rg=14.440 SPS=8787 \n",
      "bl=0 pos[1]=[6.0 3.7 -2.2] dr=0.76 t=0.0ps kin=1.51 pot=19.94 Rg=14.449 SPS=7717 \n",
      "bl=0 pos[1]=[5.5 4.8 -2.1] dr=0.76 t=0.0ps kin=1.48 pot=19.98 Rg=14.459 SPS=8778 \n",
      "bl=0 pos[1]=[6.6 4.5 -2.8] dr=0.78 t=0.0ps kin=1.51 pot=19.96 Rg=14.454 SPS=8805 \n",
      "bl=0 pos[1]=[6.5 4.6 -3.4] dr=0.76 t=0.0ps kin=1.48 pot=19.97 Rg=14.450 SPS=8599 \n",
      "bl=0 pos[1]=[6.7 4.5 -3.1] dr=0.75 t=0.0ps kin=1.48 pot=19.93 Rg=14.435 SPS=8187 \n",
      "bl=0 pos[1]=[6.2 5.2 -2.8] dr=0.75 t=0.0ps kin=1.49 pot=19.92 Rg=14.417 SPS=8279 \n",
      "bl=0 pos[1]=[5.3 5.6 -3.3] dr=0.76 t=0.0ps kin=1.50 pot=19.91 Rg=14.415 SPS=8098 \n",
      "bl=0 pos[1]=[4.7 5.4 -2.9] dr=0.75 t=0.0ps kin=1.46 pot=19.95 Rg=14.411 SPS=8535 \n",
      "bl=0 pos[1]=[5.2 6.1 -2.3] dr=0.76 t=0.0ps kin=1.46 pot=19.96 Rg=14.388 SPS=7850 \n",
      "bl=0 pos[1]=[5.6 5.5 -2.2] dr=0.76 t=0.0ps kin=1.48 pot=19.93 Rg=14.362 SPS=8405 \n",
      "bl=0 pos[1]=[7.0 5.6 -2.7] dr=0.75 t=0.0ps kin=1.47 pot=19.94 Rg=14.318 SPS=8175 \n",
      "bl=0 pos[1]=[6.7 6.7 -2.6] dr=0.75 t=0.0ps kin=1.50 pot=19.90 Rg=14.297 SPS=8292 \n",
      "bl=0 pos[1]=[5.9 6.8 -2.4] dr=0.75 t=0.0ps kin=1.50 pot=19.92 Rg=14.292 SPS=7972 \n",
      "bl=0 pos[1]=[5.3 7.1 -1.5] dr=0.76 t=0.0ps kin=1.50 pot=19.92 Rg=14.275 SPS=7303 \n",
      "bl=0 pos[1]=[5.0 7.8 -2.2] dr=0.76 t=0.0ps kin=1.48 pot=19.92 Rg=14.254 SPS=7387 \n",
      "bl=0 pos[1]=[5.3 8.1 -2.2] dr=0.76 t=0.0ps kin=1.47 pot=19.97 Rg=14.234 SPS=7888 \n",
      "bl=0 pos[1]=[5.8 7.3 -2.0] dr=0.77 t=0.0ps kin=1.54 pot=19.95 Rg=14.205 SPS=8528 \n",
      "bl=0 pos[1]=[5.3 6.9 -2.4] dr=0.76 t=0.0ps kin=1.53 pot=19.95 Rg=14.192 SPS=8005 \n",
      "bl=0 pos[1]=[6.4 6.9 -3.0] dr=0.78 t=0.0ps kin=1.55 pot=19.97 Rg=14.186 SPS=7610 \n",
      "bl=0 pos[1]=[5.5 6.1 -3.7] dr=0.77 t=0.0ps kin=1.52 pot=20.02 Rg=14.196 SPS=7624 \n",
      "bl=0 pos[1]=[5.3 5.6 -3.7] dr=0.78 t=0.0ps kin=1.54 pot=20.01 Rg=14.201 SPS=8282 \n",
      "bl=0 pos[1]=[5.6 5.5 -3.4] dr=0.77 t=0.0ps kin=1.57 pot=19.98 Rg=14.210 SPS=7915 \n",
      "bl=0 pos[1]=[6.1 6.0 -3.3] dr=0.76 t=0.0ps kin=1.53 pot=20.00 Rg=14.205 SPS=8802 \n",
      "bl=0 pos[1]=[6.3 5.9 -2.6] dr=0.77 t=0.0ps kin=1.52 pot=19.99 Rg=14.208 SPS=7411 \n",
      "bl=0 pos[1]=[6.0 4.5 -1.9] dr=0.77 t=0.0ps kin=1.54 pot=19.96 Rg=14.204 SPS=8421 \n",
      "bl=0 pos[1]=[6.8 4.8 -0.4] dr=0.76 t=0.0ps kin=1.50 pot=19.96 Rg=14.175 SPS=8265 \n",
      "bl=0 pos[1]=[6.4 4.9 -0.2] dr=0.76 t=0.0ps kin=1.49 pot=19.95 Rg=14.136 SPS=8298 \n",
      "bl=0 pos[1]=[6.0 5.1 0.1] dr=0.75 t=0.0ps kin=1.49 pot=19.94 Rg=14.101 SPS=8437 \n",
      "bl=0 pos[1]=[6.3 5.7 -0.2] dr=0.75 t=0.0ps kin=1.48 pot=19.96 Rg=14.078 SPS=7815 \n",
      "bl=0 pos[1]=[7.3 5.1 -0.2] dr=0.76 t=0.0ps kin=1.50 pot=19.91 Rg=14.039 SPS=8468 \n",
      "bl=0 pos[1]=[6.2 4.9 0.1] dr=0.76 t=0.0ps kin=1.49 pot=19.92 Rg=13.990 SPS=8399 \n",
      "bl=0 pos[1]=[6.3 4.9 -0.4] dr=0.77 t=0.0ps kin=1.47 pot=19.94 Rg=13.954 SPS=8093 \n",
      "bl=0 pos[1]=[6.2 5.3 -1.2] dr=0.77 t=0.0ps kin=1.49 pot=19.92 Rg=13.926 SPS=7878 \n",
      "bl=0 pos[1]=[6.1 5.8 -1.4] dr=0.77 t=0.0ps kin=1.50 pot=19.89 Rg=13.886 SPS=8154 \n",
      "bl=0 pos[1]=[6.0 5.3 -1.3] dr=0.76 t=0.0ps kin=1.48 pot=19.92 Rg=13.866 SPS=8053 \n",
      "bl=0 pos[1]=[6.6 5.5 -0.8] dr=0.76 t=0.0ps kin=1.51 pot=19.92 Rg=13.849 SPS=8454 \n",
      "bl=0 pos[1]=[6.8 4.5 0.1] dr=0.76 t=0.0ps kin=1.52 pot=19.91 Rg=13.828 SPS=8603 \n",
      "bl=0 pos[1]=[6.2 4.5 0.6] dr=0.76 t=0.0ps kin=1.50 pot=19.95 Rg=13.817 SPS=7847 \n",
      "bl=0 pos[1]=[7.3 3.9 1.4] dr=0.77 t=0.0ps kin=1.50 pot=19.93 Rg=13.786 SPS=7616 \n",
      "bl=0 pos[1]=[7.0 4.1 1.6] dr=0.76 t=0.0ps kin=1.51 pot=19.89 Rg=13.752 SPS=7879 \n",
      "bl=0 pos[1]=[6.5 4.6 1.9] dr=0.75 t=0.0ps kin=1.50 pot=19.88 Rg=13.735 SPS=7828 \n",
      "bl=0 pos[1]=[6.4 3.9 1.4] dr=0.75 t=0.0ps kin=1.47 pot=19.88 Rg=13.720 SPS=8361 \n",
      "bl=0 pos[1]=[6.2 4.6 1.2] dr=0.76 t=0.0ps kin=1.46 pot=19.93 Rg=13.687 SPS=8276 \n",
      "bl=0 pos[1]=[6.6 4.9 1.6] dr=0.75 t=0.0ps kin=1.47 pot=19.91 Rg=13.636 SPS=8266 \n",
      "bl=0 pos[1]=[6.5 4.6 1.3] dr=0.74 t=0.0ps kin=1.45 pot=19.90 Rg=13.592 SPS=7689 \n",
      "bl=0 pos[1]=[5.0 4.7 1.2] dr=0.75 t=0.0ps kin=1.49 pot=19.87 Rg=13.568 SPS=8063 \n",
      "bl=0 pos[1]=[4.7 5.1 2.0] dr=0.75 t=0.0ps kin=1.49 pot=19.90 Rg=13.554 SPS=8432 \n",
      "bl=0 pos[1]=[4.4 6.0 1.5] dr=0.75 t=0.0ps kin=1.48 pot=19.92 Rg=13.542 SPS=7662 \n",
      "bl=0 pos[1]=[5.0 5.9 2.0] dr=0.75 t=0.0ps kin=1.50 pot=19.93 Rg=13.512 SPS=7815 \n",
      "bl=0 pos[1]=[5.2 6.2 1.8] dr=0.76 t=0.0ps kin=1.50 pot=19.94 Rg=13.483 SPS=8493 \n",
      "bl=0 pos[1]=[4.5 6.2 1.8] dr=0.78 t=0.0ps kin=1.50 pot=19.95 Rg=13.460 SPS=8235 \n",
      "bl=0 pos[1]=[3.7 6.0 1.4] dr=0.76 t=0.0ps kin=1.49 pot=19.95 Rg=13.441 SPS=8540 \n",
      "bl=0 pos[1]=[4.2 6.3 1.7] dr=0.76 t=0.0ps kin=1.52 pot=19.93 Rg=13.431 SPS=8750 \n",
      "bl=0 pos[1]=[5.4 6.6 0.8] dr=0.75 t=0.0ps kin=1.47 pot=19.97 Rg=13.399 SPS=8118 \n",
      "bl=0 pos[1]=[5.4 6.4 0.3] dr=0.77 t=0.0ps kin=1.46 pot=19.96 Rg=13.353 SPS=8105 \n",
      "bl=0 pos[1]=[5.5 6.3 0.5] dr=0.75 t=0.0ps kin=1.49 pot=19.90 Rg=13.311 SPS=7774 \n",
      "bl=0 pos[1]=[5.4 5.6 1.1] dr=0.75 t=0.0ps kin=1.50 pot=19.91 Rg=13.276 SPS=7919 \n",
      "bl=0 pos[1]=[4.5 5.4 1.6] dr=0.74 t=0.0ps kin=1.51 pot=19.88 Rg=13.251 SPS=7838 \n",
      "bl=0 pos[1]=[4.2 6.4 1.0] dr=0.75 t=0.0ps kin=1.45 pot=19.92 Rg=13.219 SPS=8146 \n",
      "bl=0 pos[1]=[4.2 5.4 1.3] dr=0.75 t=0.0ps kin=1.51 pot=19.88 Rg=13.170 SPS=8248 \n",
      "bl=0 pos[1]=[4.7 4.6 1.2] dr=0.76 t=0.0ps kin=1.49 pot=19.89 Rg=13.122 SPS=8305 \n",
      "bl=0 pos[1]=[4.1 4.2 1.0] dr=0.75 t=0.0ps kin=1.45 pot=19.90 Rg=13.088 SPS=8224 \n",
      "bl=0 pos[1]=[3.9 3.8 0.2] dr=0.75 t=0.0ps kin=1.48 pot=19.89 Rg=13.045 SPS=8056 \n",
      "bl=0 pos[1]=[4.2 3.7 0.1] dr=0.76 t=0.0ps kin=1.49 pot=19.87 Rg=12.996 SPS=7972 \n",
      "bl=0 pos[1]=[5.4 3.1 -0.4] dr=0.76 t=0.0ps kin=1.52 pot=19.88 Rg=12.954 SPS=8036 \n",
      "bl=0 pos[1]=[5.2 3.9 0.2] dr=0.75 t=0.0ps kin=1.49 pot=19.88 Rg=12.909 SPS=7565 \n",
      "bl=0 pos[1]=[4.2 3.5 0.1] dr=0.73 t=0.0ps kin=1.46 pot=19.90 Rg=12.857 SPS=8047 \n",
      "bl=0 pos[1]=[4.2 4.3 -0.3] dr=0.74 t=0.0ps kin=1.53 pot=19.86 Rg=12.821 SPS=8080 \n",
      "bl=0 pos[1]=[4.9 5.7 -1.2] dr=0.75 t=0.0ps kin=1.52 pot=19.88 Rg=12.800 SPS=8434 \n",
      "bl=0 pos[1]=[5.2 5.4 -1.6] dr=0.76 t=0.0ps kin=1.52 pot=19.89 Rg=12.767 SPS=8636 \n",
      "bl=0 pos[1]=[5.3 5.9 -2.1] dr=0.74 t=0.0ps kin=1.49 pot=19.89 Rg=12.728 SPS=9291 \n",
      "bl=0 pos[1]=[4.7 6.2 -2.6] dr=0.75 t=0.0ps kin=1.47 pot=19.90 Rg=12.690 SPS=8634 \n",
      "bl=0 pos[1]=[5.0 6.0 -2.3] dr=0.75 t=0.0ps kin=1.46 pot=19.91 Rg=12.643 SPS=8688 \n",
      "bl=0 pos[1]=[4.9 6.5 -2.3] dr=0.75 t=0.0ps kin=1.50 pot=19.91 Rg=12.606 SPS=8126 \n",
      "bl=0 pos[1]=[5.0 6.6 -1.8] dr=0.77 t=0.0ps kin=1.50 pot=19.88 Rg=12.583 SPS=7894 \n",
      "bl=0 pos[1]=[4.7 6.5 -2.5] dr=0.75 t=0.0ps kin=1.52 pot=19.86 Rg=12.552 SPS=7982 \n",
      "bl=0 pos[1]=[3.9 6.4 -2.1] dr=0.74 t=0.0ps kin=1.48 pot=19.90 Rg=12.519 SPS=8668 \n",
      "bl=0 pos[1]=[4.1 6.7 -2.4] dr=0.73 t=0.0ps kin=1.50 pot=19.91 Rg=12.501 SPS=8536 \n",
      "bl=0 pos[1]=[4.2 6.3 -2.0] dr=0.75 t=0.0ps kin=1.49 pot=19.91 Rg=12.486 SPS=8169 \n",
      "bl=0 pos[1]=[4.7 6.3 -2.8] dr=0.75 t=0.0ps kin=1.48 pot=19.91 Rg=12.470 SPS=8034 \n",
      "bl=0 pos[1]=[5.3 6.0 -3.1] dr=0.75 t=0.0ps kin=1.50 pot=19.90 Rg=12.461 SPS=8122 \n",
      "bl=0 pos[1]=[5.8 5.8 -2.5] dr=0.75 t=0.0ps kin=1.54 pot=19.87 Rg=12.467 SPS=8197 \n",
      "bl=0 pos[1]=[5.7 5.2 -1.9] dr=0.75 t=0.0ps kin=1.47 pot=19.89 Rg=12.465 SPS=8436 \n",
      "bl=0 pos[1]=[4.4 5.2 -2.8] dr=0.77 t=0.0ps kin=1.50 pot=19.90 Rg=12.464 SPS=7972 \n",
      "bl=0 pos[1]=[4.3 5.4 -2.9] dr=0.77 t=0.0ps kin=1.50 pot=19.91 Rg=12.444 SPS=7588 \n",
      "bl=0 pos[1]=[5.5 5.8 -2.6] dr=0.76 t=0.0ps kin=1.50 pot=19.90 Rg=12.439 SPS=7680 \n",
      "bl=0 pos[1]=[5.4 5.7 -2.2] dr=0.76 t=0.0ps kin=1.49 pot=19.90 Rg=12.428 SPS=8236 \n",
      "bl=0 pos[1]=[6.4 5.6 -1.6] dr=0.73 t=0.0ps kin=1.47 pot=19.89 Rg=12.416 SPS=8485 \n",
      "bl=0 pos[1]=[6.3 5.9 -1.3] dr=0.75 t=0.0ps kin=1.50 pot=19.88 Rg=12.402 SPS=8375 \n",
      "bl=0 pos[1]=[6.5 6.5 -1.2] dr=0.76 t=0.0ps kin=1.51 pot=19.88 Rg=12.389 SPS=8233 \n",
      "bl=0 pos[1]=[5.7 6.6 -1.2] dr=0.74 t=0.0ps kin=1.48 pot=19.93 Rg=12.370 SPS=8006 \n",
      "bl=0 pos[1]=[5.8 6.8 -1.0] dr=0.75 t=0.0ps kin=1.52 pot=19.94 Rg=12.349 SPS=8795 \n",
      "bl=0 pos[1]=[6.3 7.3 -0.7] dr=0.77 t=0.0ps kin=1.48 pot=19.95 Rg=12.321 SPS=8695 \n",
      "bl=0 pos[1]=[5.6 8.2 -0.7] dr=0.75 t=0.0ps kin=1.49 pot=19.90 Rg=12.296 SPS=8248 \n",
      "bl=0 pos[1]=[5.9 8.2 -0.7] dr=0.75 t=0.0ps kin=1.47 pot=19.88 Rg=12.287 SPS=8597 \n",
      "bl=0 pos[1]=[5.4 8.3 -0.9] dr=0.74 t=0.0ps kin=1.52 pot=19.88 Rg=12.287 SPS=8961 \n",
      "bl=0 pos[1]=[5.7 8.9 -0.6] dr=0.76 t=0.0ps kin=1.52 pot=19.88 Rg=12.300 SPS=8274 \n",
      "bl=0 pos[1]=[5.4 8.6 -0.5] dr=0.76 t=0.0ps kin=1.49 pot=19.93 Rg=12.314 SPS=8741 \n",
      "bl=0 pos[1]=[5.4 9.0 0.0] dr=0.76 t=0.0ps kin=1.50 pot=19.90 Rg=12.337 SPS=8196 \n",
      "bl=0 pos[1]=[5.6 9.1 -0.2] dr=0.75 t=0.0ps kin=1.51 pot=19.89 Rg=12.362 SPS=7658 \n",
      "bl=0 pos[1]=[5.6 8.5 -0.5] dr=0.75 t=0.0ps kin=1.51 pot=19.87 Rg=12.383 SPS=7360 \n",
      "bl=0 pos[1]=[5.9 7.3 0.2] dr=0.75 t=0.0ps kin=1.51 pot=19.89 Rg=12.380 SPS=7813 \n",
      "bl=0 pos[1]=[5.3 6.3 0.2] dr=0.75 t=0.0ps kin=1.50 pot=19.92 Rg=12.394 SPS=8021 \n",
      "bl=0 pos[1]=[5.3 5.7 0.7] dr=0.76 t=0.0ps kin=1.52 pot=19.94 Rg=12.410 SPS=7929 \n",
      "bl=0 pos[1]=[5.7 5.2 0.9] dr=0.77 t=0.0ps kin=1.55 pot=19.90 Rg=12.416 SPS=8353 \n",
      "bl=0 pos[1]=[5.5 5.6 0.0] dr=0.76 t=0.0ps kin=1.56 pot=19.91 Rg=12.422 SPS=7443 \n",
      "bl=0 pos[1]=[5.4 5.1 -0.1] dr=0.77 t=0.0ps kin=1.56 pot=19.92 Rg=12.432 SPS=8394 \n",
      "bl=0 pos[1]=[5.9 5.7 -0.6] dr=0.76 t=0.0ps kin=1.52 pot=19.93 Rg=12.438 SPS=8100 \n",
      "bl=0 pos[1]=[5.9 5.4 0.3] dr=0.77 t=0.0ps kin=1.53 pot=19.91 Rg=12.446 SPS=8804 \n",
      "bl=0 pos[1]=[5.6 5.2 0.2] dr=0.76 t=0.0ps kin=1.52 pot=19.91 Rg=12.447 SPS=8794 \n",
      "bl=0 pos[1]=[5.4 5.6 0.3] dr=0.75 t=0.0ps kin=1.50 pot=19.90 Rg=12.454 SPS=8244 \n",
      "bl=0 pos[1]=[5.3 6.1 0.3] dr=0.75 t=0.0ps kin=1.46 pot=19.95 Rg=12.458 SPS=8737 \n",
      "bl=0 pos[1]=[4.7 6.7 0.7] dr=0.76 t=0.0ps kin=1.47 pot=19.92 Rg=12.445 SPS=8328 \n",
      "bl=0 pos[1]=[4.2 6.2 1.7] dr=0.74 t=0.0ps kin=1.47 pot=19.91 Rg=12.436 SPS=8419 \n",
      "bl=0 pos[1]=[4.2 5.9 2.5] dr=0.74 t=0.0ps kin=1.47 pot=19.88 Rg=12.442 SPS=8732 \n",
      "bl=0 pos[1]=[4.9 5.8 1.8] dr=0.75 t=0.0ps kin=1.50 pot=19.88 Rg=12.443 SPS=7657 \n",
      "bl=0 "
     ]
    }
   ],
   "source": [
    "for _ in range(n_blocks):\n",
    "    sim.runSimBlock(block, increment=False) "
   ]
  },
  {
   "cell_type": "markdown",
   "metadata": {},
   "source": [
    "Details about the output of each simulation block:\n",
    "\n",
    "- `bl=0` The index number of the simulated block. The parameter `increment=False`, is used to ignore the steps counting.<br>\n",
    "- `pos[1]=[X,Y,Z]` The spatial position for the locus $1$. <br>\n",
    "- `dr=1.26` The average of the loci displacements in each block (in units os sigma). <br>\n",
    "- `t=0` The current time step of the simulated. The parameter `increment=False` ignores the steps counting and keeps $t=0.0$.<br>\n",
    "- `kin=1.5` The kinetic energy of the system.<br>\n",
    "- `pot=19.90` The total potential energy of the system. <br>\n",
    "- `RG=7.654` The Radius of gyration at the end of the simulated block. <br>\n",
    "- `SPS=12312` The Steps Per Second of each block."
   ]
  },
  {
   "cell_type": "markdown",
   "metadata": {},
   "source": [
    "The radius of gyration is a good parameter to check if the collapse was well performed.\n",
    "If the chromosome polymer is not collapsed, it is necessary to rerun the initial collapse steps."
   ]
  },
  {
   "cell_type": "code",
   "execution_count": null,
   "metadata": {},
   "outputs": [],
   "source": [
    "print(sim.chromRG())\n",
    "sim.saveStructure(mode='ndb')\n",
    "#sim.saveStructure((mode='gro') #There are options to save the chromosome 3D structure using the standard file format used for macromolecules. \n",
    "#sim.saveStructure(mode='pdb')"
   ]
  },
  {
   "cell_type": "markdown",
   "metadata": {},
   "source": [
    "The next step is to remove the spherical restraint force to run the production simulation.\n",
    "The **OpenMM** commands are:<br>\n",
    "`sim.system.getForces()` Returns a list of all forces in `sim` system. <br>\n",
    "`sim.system.removeForce(5)` Removes the force indexed as `5` (the last one in this tutorial)."
   ]
  },
  {
   "cell_type": "code",
   "execution_count": null,
   "metadata": {},
   "outputs": [],
   "source": [
    "sim.system.getForces()"
   ]
  },
  {
   "cell_type": "code",
   "execution_count": null,
   "metadata": {},
   "outputs": [],
   "source": [
    "sim.system.removeForce(5)"
   ]
  },
  {
   "cell_type": "markdown",
   "metadata": {},
   "source": [
    "To run the production simulation, it is necessary to initialize the .cndb file to save the chromatin dynamics trajectory."
   ]
  },
  {
   "cell_type": "code",
   "execution_count": null,
   "metadata": {},
   "outputs": [],
   "source": [
    "sim.initStorage(filename=\"traj_chr10\")"
   ]
  },
  {
   "cell_type": "markdown",
   "metadata": {},
   "source": [
    "Sets the parameters of the production simulations:\n",
    "\n",
    "$block = 5\\times10^2$ <br> \n",
    "$n\\_blocks = 2\\times10^3$ "
   ]
  },
  {
   "cell_type": "code",
   "execution_count": null,
   "metadata": {},
   "outputs": [],
   "source": [
    "block = 5*10**2\n",
    "n_blocks = 2*10**3 "
   ]
  },
  {
   "cell_type": "code",
   "execution_count": null,
   "metadata": {
    "scrolled": true,
    "tags": []
   },
   "outputs": [],
   "source": [
    "for _ in range(n_blocks):\n",
    "    sim.runSimBlock(block, increment=True) \n",
    "    sim.saveStructure()"
   ]
  },
  {
   "cell_type": "markdown",
   "metadata": {},
   "source": [
    "Once the simulation is performed, it is necessary to close the .cndb file to avoid losing the trajectory data."
   ]
  },
  {
   "cell_type": "code",
   "execution_count": null,
   "metadata": {},
   "outputs": [],
   "source": [
    "sim.storage[0].close()"
   ]
  },
  {
   "cell_type": "markdown",
   "metadata": {},
   "source": [
    "The simulation should generate the `traj_chr10_0.cndb` trajectory file in the output_chr10 folder. This file contains $2000$ frames (one snapshot per block)."
   ]
  },
  {
   "cell_type": "markdown",
   "metadata": {},
   "source": [
    "### Trajectory Analyses using cndbTools"
   ]
  },
  {
   "cell_type": "markdown",
   "metadata": {},
   "source": [
    "`cndbTools` is a class that allows analyses in the chromatin dynamics trajectories using the binary format [.cndb](https://ndb.rice.edu/ndb-format) (compact ndb)."
   ]
  },
  {
   "cell_type": "code",
   "execution_count": null,
   "metadata": {},
   "outputs": [],
   "source": [
    "cndbTools = cndbTools()"
   ]
  },
  {
   "cell_type": "markdown",
   "metadata": {},
   "source": [
    "Load the cndb file in the variable `chr10_traj`."
   ]
  },
  {
   "cell_type": "code",
   "execution_count": null,
   "metadata": {},
   "outputs": [],
   "source": [
    "chr10_traj = cndbTools.load('output_chr10/traj_chr10_0.cndb')"
   ]
  },
  {
   "cell_type": "code",
   "execution_count": null,
   "metadata": {},
   "outputs": [],
   "source": [
    "print(chr10_traj) # Print the information of the cndb trajectory."
   ]
  },
  {
   "cell_type": "markdown",
   "metadata": {},
   "source": [
    "Extract the loci XYZ position over the simulated 2000 frames and save in the variable `chr10_xyz`."
   ]
  },
  {
   "cell_type": "code",
   "execution_count": null,
   "metadata": {},
   "outputs": [],
   "source": [
    "chr10_xyz = cndbTools.xyz(frames=[1,2000,1], beadSelection='all', XYZ=[0,1,2])"
   ]
  },
  {
   "cell_type": "markdown",
   "metadata": {},
   "source": [
    "The variable `chr10_xyz` allows the cndbTools to perform several analyses.\n",
    "In this example, the Radius of Gyration can be obtained as a function of the simulated frames."
   ]
  },
  {
   "cell_type": "code",
   "execution_count": null,
   "metadata": {},
   "outputs": [],
   "source": [
    "import matplotlib.pyplot as plt\n",
    "import matplotlib as mpl\n",
    "\n",
    "\n",
    "chr10_RG = cndbTools.compute_RG(chr10_xyz)\n",
    "plt.plot(chr10_RG)\n",
    "plt.ylabel(r'Radius of Gyration ($\\sigma$)',fontsize=15)\n",
    "plt.xlabel(r'Simulation Frames',fontsize=15)"
   ]
  },
  {
   "cell_type": "markdown",
   "metadata": {},
   "source": [
    "`cndbTools` allows the selection of beads to compute the analyses. An example is the Radial Distribution Probability (RDP) for each chromatin type (A and B)."
   ]
  },
  {
   "cell_type": "code",
   "execution_count": null,
   "metadata": {},
   "outputs": [],
   "source": [
    "chr10_A = cndbTools.xyz(frames=[1,2000,1], beadSelection=chr10_traj.dictChromSeq['A1'], XYZ=[0,1,2])\n",
    "chr10_B = cndbTools.xyz(frames=[1,2000,1], beadSelection=chr10_traj.dictChromSeq['B1'], XYZ=[0,1,2])"
   ]
  },
  {
   "cell_type": "code",
   "execution_count": null,
   "metadata": {},
   "outputs": [],
   "source": [
    "print(\"Computing RDP...\")\n",
    "r_A, RDP_chr10_A = cndbTools.compute_RDP(chr10_A, radius=15.0, bins=200)\n",
    "r_B, RDP_chr10_B = cndbTools.compute_RDP(chr10_B, radius=15.0, bins=200)"
   ]
  },
  {
   "cell_type": "code",
   "execution_count": null,
   "metadata": {},
   "outputs": [],
   "source": [
    "plt.plot(r_A, RDP_chr10_A, color='red', label='A')\n",
    "plt.plot(r_B, RDP_chr10_B, color='blue', label='B')\n",
    "plt.xlabel(r'r ($\\sigma$)', fontsize=15,fontweight='normal', color='k')\n",
    "plt.ylabel(r'$\\rho(r)/N_{type}$', fontsize=15,fontweight='normal', color='k')\n",
    "plt.legend()\n",
    "plt.gca().set_xlim([1/200,15.0])"
   ]
  },
  {
   "cell_type": "markdown",
   "metadata": {},
   "source": [
    "`cndbTools` also generates the *in silico* Hi-C map (contact probability matrix).\n",
    "\n",
    "In this tutorial, the trajectory contains 2000 snapshots of chromosome 10 of the GM12878 cell line. It is expected the *in silico* Hi-C not be fully converged due to the inadequate sampling. \n",
    "To produce a converged map, it is recommended to simulate around 20 replicas with 10000 frames on each, which generates an ensemble of 200.000 chromosome structures."
   ]
  },
  {
   "cell_type": "code",
   "execution_count": null,
   "metadata": {},
   "outputs": [],
   "source": [
    "print(\"Generating the contact probability matrix...\")\n",
    "chr10_sim_HiC = cndbTools.traj2HiC(chr10_xyz)\n"
   ]
  },
  {
   "cell_type": "code",
   "execution_count": null,
   "metadata": {},
   "outputs": [],
   "source": [
    "plt.matshow(chr10_sim_HiC, norm=mpl.colors.LogNorm(vmin=0.001, vmax=chr10_sim_HiC.max()),cmap=\"Reds\")  \n",
    "plt.colorbar()"
   ]
  },
  {
   "cell_type": "markdown",
   "metadata": {},
   "source": [
    "To visualize the chromosome's 3D structures in the standard visualization software for macromolecules, there are available scripts for converting the ndb/cndb file format to .pdb and .gro. For details, please check the [Nucleome Data Bank](https://ndb.rice.edu/ndb-format).\n",
    "\n",
    "The ndb plugin for visualizing the chromatin dynamics trajectories in VMD/Chimera/Pymol is under development."
   ]
  }
 ],
 "metadata": {
  "kernelspec": {
   "display_name": "Python 3",
   "language": "python",
   "name": "python3"
  },
  "language_info": {
   "codemirror_mode": {
    "name": "ipython",
    "version": 3
   },
   "file_extension": ".py",
   "mimetype": "text/x-python",
   "name": "python",
   "nbconvert_exporter": "python",
   "pygments_lexer": "ipython3",
   "version": "3.7.4"
  }
 },
 "nbformat": 4,
 "nbformat_minor": 4
}
