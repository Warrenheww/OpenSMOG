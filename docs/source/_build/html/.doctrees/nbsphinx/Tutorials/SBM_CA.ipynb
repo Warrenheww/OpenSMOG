{
 "cells": [
  {
   "cell_type": "markdown",
   "id": "2689e89a",
   "metadata": {},
   "source": [
    "### C-alpha Structure-based Model simulation using OpenSMOG\r\n",
    "\r\n",
    "This tutorial should take between 5 to 15 minutes of reading and performing simulations.\r\n",
    "\r\n",
    "Input files for this tutorial can be found [here](https://github.com/junioreif/OpenSMOG/tree/main/Tutorials/SMOG2_CA_CI2)"
   ]
  },
  {
   "cell_type": "markdown",
   "id": "65f07d2b",
   "metadata": {},
   "source": [
    "The first step is to import the **OpenSMOG** module"
   ]
  },
  {
   "cell_type": "code",
   "execution_count": null,
   "id": "cf6bdb66",
   "metadata": {},
   "outputs": [],
   "source": [
    "from OpenSMOG import SBM"
   ]
  },
  {
   "cell_type": "markdown",
   "id": "7937d4f5",
   "metadata": {},
   "source": [
    "SBM class sets the parameters for the simulation:\r\n",
    "\r\n",
    "`name=\"2ci2\"` Sets the name of each simulation *(this name is used as prefix for the outputs)*. <br>\r\n",
    "`time_step=0.0005 ` (**reduced time unit**) Sets the time step used in integration. <br>\r\n",
    "`collision_rate=1.0` (**reduced time unit**) Sets the collision rate of Langevin integrator.  <br>\r\n",
    "`r_cutoff=3.0` (**nanometers**) Sets the non-bonded cutoff. <br>\r\n",
    "`temperature=0.5` (**reduced temperature unit**) Sets the Temperature of the simulation. <br>\r\n",
    "\r\n",
    "sbm_CA is an arbitrarily chosen variable name for the SBM object"
   ]
  },
  {
   "cell_type": "code",
   "execution_count": null,
   "id": "c283aa5b",
   "metadata": {},
   "outputs": [],
   "source": [
    "sbm_CA = SBM(name='2ci2', time_step=0.0005, collision_rate=1.0, r_cutoff=3.0, temperature=0.5)"
   ]
  },
  {
   "cell_type": "markdown",
   "id": "ce7d0c14",
   "metadata": {},
   "source": [
    "There are three hardware platform options to run the simulations: \r\n",
    "\r\n",
    "`platform=\"cuda\"` <br>\r\n",
    "`platform=\"HIP\"` <br>\r\n",
    "`platform=\"opencl\"` <br>\r\n",
    "`platform=\"cpu\"` <br>\r\n",
    "\r\n",
    "if **cuda**, **opencl** or **HIP** is choosen the GPUindex can be define as \"0\". If two GPUs are used, one may give \"0,1\" \r\n"
   ]
  },
  {
   "cell_type": "code",
   "execution_count": null,
   "id": "75c3ff5a",
   "metadata": {
    "tags": []
   },
   "outputs": [],
   "source": [
    "sbm_CA.setup_openmm(platform='cuda',GPUindex='default')"
   ]
  },
  {
   "cell_type": "markdown",
   "id": "74b2fb27",
   "metadata": {},
   "source": [
    "Sets the directory name where to save the simulation outputs"
   ]
  },
  {
   "cell_type": "code",
   "execution_count": null,
   "id": "c73078ca",
   "metadata": {},
   "outputs": [],
   "source": [
    "sbm_CA.saveFolder('output_2ci2_CA')"
   ]
  },
  {
   "cell_type": "markdown",
   "id": "0610f763",
   "metadata": {},
   "source": [
    "Load the **gro**, **top** and **xml** files into the sbm_CA object"
   ]
  },
  {
   "cell_type": "code",
   "execution_count": null,
   "id": "11346987",
   "metadata": {},
   "outputs": [],
   "source": [
    "sbm_CA_grofile = 'SMOG2_CA_CI2/2ci2.CA.gro'\n",
    "sbm_CA_topfile = 'SMOG2_CA_CI2/2ci2.CA.top'\n",
    "sbm_CA_xmlfile = 'SMOG2_CA_CI2/2ci2.CA.xml'\n",
    "\n",
    "sbm_CA.loadSystem(Grofile=sbm_CA_grofile, Topfile=sbm_CA_topfile, Xmlfile=sbm_CA_xmlfile)"
   ]
  },
  {
   "cell_type": "markdown",
   "id": "de5e1b8a",
   "metadata": {},
   "source": [
    "This function returns the name of each contact potential that is being used in the current model.\n",
    "In this example, only a Lennard-Jones-style 10-12 potential is being applied."
   ]
  },
  {
   "cell_type": "markdown",
   "id": "b2774597",
   "metadata": {},
   "source": [
    "The simulation **context** is created with all information given in the previous steps."
   ]
  },
  {
   "cell_type": "code",
   "execution_count": null,
   "id": "875d43c8",
   "metadata": {
    "tags": []
   },
   "outputs": [],
   "source": [
    "sbm_CA.createSimulation()"
   ]
  },
  {
   "cell_type": "markdown",
   "id": "464870ab",
   "metadata": {},
   "source": [
    "Create the **reporters** that will save the simulation data in an output folder.\r\n",
    "\r\n",
    "`trajectory=True` Save the trajectory in .dcd format. <br>\r\n",
    "`energies=True` Save the energy in text format separated by a comma. <br>\r\n",
    "`interval=10**3` The interval (in steps) at which the trajectory and energies are saved."
   ]
  },
  {
   "cell_type": "code",
   "execution_count": null,
   "id": "a4fd1aaa",
   "metadata": {
    "tags": []
   },
   "outputs": [],
   "source": [
    "sbm_CA.createReporters(trajectory=True, energies=True, forces=True, interval=10**3)"
   ]
  },
  {
   "cell_type": "markdown",
   "id": "a703a973",
   "metadata": {},
   "source": [
    "The `run` function receives the following parameters:\n",
    "\n",
    "`nsteps=10**6` Number os steps to perform the simulation. <br>\n",
    "`report=True` Shows the simulation details (Progress (%), Step and Time Remaining) <br>\n",
    "`interval=10**4` The step interval to show the details"
   ]
  },
  {
   "cell_type": "code",
   "execution_count": null,
   "id": "d4caeb1e",
   "metadata": {
    "scrolled": true,
    "tags": []
   },
   "outputs": [],
   "source": [
    "sbm_CA.run(nsteps=10**6, report=True, interval=10**4)"
   ]
  },
  {
   "cell_type": "markdown",
   "id": "ac9ed8d2",
   "metadata": {},
   "source": [
    "The output files are located in the output folder"
   ]
  }
 ],
 "metadata": {
  "interpreter": {
   "hash": "242cae9b8452ece2cb6489a184e39dc6b7b0499be08472c01ccb8b91635bb5bf"
  },
  "kernelspec": {
   "display_name": "Python 3.7.11 64-bit ('openmm': conda)",
   "name": "python3"
  },
  "language_info": {
   "codemirror_mode": {
    "name": "ipython",
    "version": 3
   },
   "file_extension": ".py",
   "mimetype": "text/x-python",
   "name": "python",
   "nbconvert_exporter": "python",
   "pygments_lexer": "ipython3",
   "version": "3.9.6"
  }
 },
 "nbformat": 4,
 "nbformat_minor": 5
}
