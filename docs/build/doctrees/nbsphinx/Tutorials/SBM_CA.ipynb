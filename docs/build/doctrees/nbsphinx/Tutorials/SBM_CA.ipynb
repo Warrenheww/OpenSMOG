{
 "cells": [
  {
   "cell_type": "markdown",
   "id": "5f80cf17",
   "metadata": {},
   "source": [
    "### C-alpha Structure-based Model simulation using OpenSMOG\n",
    "\n",
    "This tutorial should take between 5 to 15 minutes of reading and performing simulations.\n",
    "\n",
    "Input files for this tutorial can be found [here](https://github.com/junioreif/OpenSMOG/tree/main/Tutorials/SBM_CA/input)"
   ]
  },
  {
   "cell_type": "markdown",
   "id": "80701457",
   "metadata": {},
   "source": [
    "The first step is to import the **OpenSMOG** module"
   ]
  },
  {
   "cell_type": "code",
   "execution_count": null,
   "id": "130cd629",
   "metadata": {},
   "outputs": [],
   "source": [
    "from OpenSMOG import SBM"
   ]
  },
  {
   "cell_type": "markdown",
   "id": "80250035",
   "metadata": {},
   "source": [
    "SBM class sets the initial parameters of the simulation:\r\n",
    "\r\n",
    "`name=\"1hk0\"` Sets the name of each simulation *(this name is used as prefix for the outputs)*. <br>\r\n",
    "`time_step=0.002 ` (**picoseconds**) Sets the time step used in integration. <br>\r\n",
    "`collision_rate=1.0` (**picoseconds**) Sets the collision rate of Langevin integrator.  <br>\r\n",
    "`r_cutoff=3.0` (**nanometers**) Sets the non-bonded cutoff. <br>\r\n",
    "`temperature=0.5` (**reduced units of temperature**) Sets the Temperature of the simulation. <br>\r\n",
    "\r\n",
    "sbm_CA is a chosen variable name for the SBM object"
   ]
  },
  {
   "cell_type": "code",
   "execution_count": null,
   "id": "c301cadc",
   "metadata": {},
   "outputs": [],
   "source": [
    "sbm_CA = SBM(name='1hk0', time_step=0.002, collision_rate=1.0, r_cutoff=3.0, temperature=0.5)"
   ]
  },
  {
   "cell_type": "markdown",
   "id": "9e97c306",
   "metadata": {},
   "source": [
    "There are three hardware platform options to run the simulations: \r\n",
    "\r\n",
    "`platform=\"cuda\"` <br>\r\n",
    "`platform=\"HIP\"` <br>\r\n",
    "`platform=\"opencl\"` <br>\r\n",
    "`platform=\"cpu\"` <br>\r\n",
    "\r\n",
    "if **cuda**, **opencl** or **HIP** is choosen the GPUindex can be define as \"0\" or \"0,1\" for multiples GPUS \r\n"
   ]
  },
  {
   "cell_type": "code",
   "execution_count": null,
   "id": "7dcf9880",
   "metadata": {
    "tags": []
   },
   "outputs": [],
   "source": [
    "sbm_CA.setup_openmm(platform='cuda', GPUindex='default')"
   ]
  },
  {
   "cell_type": "markdown",
   "id": "647e0b8e",
   "metadata": {},
   "source": [
    "Sets the directory name where to save the simulation outputs"
   ]
  },
  {
   "cell_type": "code",
   "execution_count": null,
   "id": "f5b55065",
   "metadata": {},
   "outputs": [],
   "source": [
    "sbm_CA.saveFolder('output')"
   ]
  },
  {
   "cell_type": "markdown",
   "id": "94d5d519",
   "metadata": {},
   "source": [
    "Load the **gro** file into the sbm_CA object"
   ]
  },
  {
   "cell_type": "code",
   "execution_count": null,
   "id": "3ff45aa5",
   "metadata": {},
   "outputs": [],
   "source": [
    "sbm_CA.loadGro('input/1hk0_CA.gro')"
   ]
  },
  {
   "cell_type": "markdown",
   "id": "995141a0",
   "metadata": {},
   "source": [
    "Load the **top** file into the sbm_CA object "
   ]
  },
  {
   "cell_type": "code",
   "execution_count": null,
   "id": "28def2c4",
   "metadata": {},
   "outputs": [],
   "source": [
    "sbm_CA.loadTop('input/1hk0_CA.top')"
   ]
  },
  {
   "cell_type": "markdown",
   "id": "bf36d3b4",
   "metadata": {},
   "source": [
    "Load the **xml** file into the sbm_CA object\n",
    "\n",
    "This function returns the name of each force added.\n",
    "\n",
    "In this example, only the Lennard-Jones 10-12 potential is being applied."
   ]
  },
  {
   "cell_type": "code",
   "execution_count": null,
   "id": "bf7f9c6b",
   "metadata": {},
   "outputs": [],
   "source": [
    "sbm_CA.loadXml('input/1hk0_CA.xml')"
   ]
  },
  {
   "cell_type": "markdown",
   "id": "dcf4f388",
   "metadata": {},
   "source": [
    "The Simulation **context** is created with all information given in previous steps."
   ]
  },
  {
   "cell_type": "code",
   "execution_count": null,
   "id": "a6dbb733",
   "metadata": {
    "tags": []
   },
   "outputs": [],
   "source": [
    "sbm_CA.createSimulation()"
   ]
  },
  {
   "cell_type": "markdown",
   "id": "efcc5d2f",
   "metadata": {},
   "source": [
    "Creates the **reporters** that will save the simulation data in output folder.\r\n",
    "\r\n",
    "`trajectory=True` Save the trajectory in .dcd format. <br>\r\n",
    "`energies=True` Save the energy in text format separated by a comma. <br>\r\n",
    "`interval=10**3` The step interval to save both trajectory and energies data."
   ]
  },
  {
   "cell_type": "code",
   "execution_count": null,
   "id": "37a2b45f",
   "metadata": {
    "tags": []
   },
   "outputs": [],
   "source": [
    "sbm_CA.createReporters(trajectory=True, energies=True, forces=True, interval=10**3)"
   ]
  },
  {
   "cell_type": "markdown",
   "id": "ffcf35c3",
   "metadata": {},
   "source": [
    "The `run` function receives the following parameters:\n",
    "\n",
    "`nsteps=10**7` Number os steps to perform the simulation. <br>\n",
    "`report=True` Shows the simulation details (Progress (%), Step and Time Remaining) <br>\n",
    "`interval=10**4` The step interval to show the details"
   ]
  },
  {
   "cell_type": "code",
   "execution_count": null,
   "id": "71817ce8",
   "metadata": {
    "scrolled": true,
    "tags": []
   },
   "outputs": [],
   "source": [
    "sbm_CA.run(nsteps=10**7, report=True, interval=10**4)"
   ]
  },
  {
   "cell_type": "markdown",
   "id": "e6eb72b1",
   "metadata": {},
   "source": [
    "The output files are located in the output folder"
   ]
  }
 ],
 "metadata": {
  "interpreter": {
   "hash": "6c1e1dc993528b01ea0560a49e19c0e55ea625de972d398fe3046f8c57ef6008"
  },
  "kernelspec": {
   "display_name": "Python 3.8.8 64-bit ('base': conda)",
   "name": "python3"
  },
  "language_info": {
   "codemirror_mode": {
    "name": "ipython",
    "version": 3
   },
   "file_extension": ".py",
   "mimetype": "text/x-python",
   "name": "python",
   "nbconvert_exporter": "python",
   "pygments_lexer": "ipython3",
   "version": "3.8.8"
  }
 },
 "nbformat": 4,
 "nbformat_minor": 5
}
