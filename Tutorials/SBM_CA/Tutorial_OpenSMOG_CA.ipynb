{
 "cells": [
  {
   "cell_type": "markdown",
   "id": "70a5e875-495b-4124-9947-79a709d0652f",
   "metadata": {},
   "source": [
    "# C-alpha Structure-based Model simulation using OpenSMOG\n",
    "\n",
    "This tutorial should take between 5 to 15 minutes of reading and performing simulations."
   ]
  },
  {
   "cell_type": "markdown",
   "id": "52921fb9-995c-4b7c-9b78-bf37911af19e",
   "metadata": {},
   "source": [
    "The first step is to import the OpenSMOG module"
   ]
  },
  {
   "cell_type": "code",
   "execution_count": null,
   "id": "ab9ccee1-8fcd-4591-afa1-dde2ff2757e4",
   "metadata": {},
   "outputs": [],
   "source": [
    "from OpenSMOG import SBM"
   ]
  },
  {
   "cell_type": "markdown",
   "id": "690d1869-0e7c-4a09-af02-deb7954e1ed5",
   "metadata": {},
   "source": [
    "SBM class sets the initial parameters of the simulation:<br>\n",
    "\n",
    "`name=\"1hk0\"` set the default name of each simulation *(this name is used as prefix for the outputs)* <br>\n",
    "`dt=0.002` **picoseconds** the time step used in integration <br>\n",
    "`gamma=5.0` **picoseconds** the collision rate of Langevin integrator  <br>\n",
    "`rcutoff=1.5` **nanometers** non-bonded cutoff <br>\n",
    "`temperature=1.0` **reduced units** the temperature in  \n",
    "\n",
    "sbm_CA is a chosen variable name for the SBM object"
   ]
  },
  {
   "cell_type": "code",
   "execution_count": null,
   "id": "e3be4706-04e8-469b-84dc-01bd3f128bf3",
   "metadata": {},
   "outputs": [],
   "source": [
    "sbm_CA = SBM(name='1hk0', dt=0.002, gamma=2.0, rcutoff =1.5, temperature=1.0)"
   ]
  },
  {
   "cell_type": "markdown",
   "id": "845fda86-a726-4f53-90a4-0c62243a0f93",
   "metadata": {},
   "source": [
    "There are three hardware platform options to run the simulations: \n",
    "\n",
    "`platform=\"cuda\"` <br>\n",
    "`platform=\"opencl\"` <br>\n",
    "`platform=\"cpu\"` <br>\n",
    "\n",
    "if \"cuda\" or \"opencl\" is choosen the GPUindex can be define as \"0\" or \"0,1\" for multiples GPUS \n"
   ]
  },
  {
   "cell_type": "code",
   "execution_count": null,
   "id": "aceda878-dba0-4fcb-8012-e64040c5d3b0",
   "metadata": {
    "tags": []
   },
   "outputs": [],
   "source": [
    "sbm_CA.setup_openmm(platform='cuda', GPUindex='default')"
   ]
  },
  {
   "cell_type": "markdown",
   "id": "66dc44c2-ca72-4e6b-be3b-94a2a101a369",
   "metadata": {},
   "source": [
    "Sets the directory name where to save the simulation outputs"
   ]
  },
  {
   "cell_type": "code",
   "execution_count": null,
   "id": "62a56a7d-9884-43aa-bead-e610e624155e",
   "metadata": {},
   "outputs": [],
   "source": [
    "sbm_CA.saveFolder('output')"
   ]
  },
  {
   "cell_type": "markdown",
   "id": "0dc80593-b47b-4343-9ff1-5b9816c0c387",
   "metadata": {},
   "source": [
    "Load the Gro file into the sbm_CA object\n",
    "\n",
    "in this tutorial all input files are in input folder"
   ]
  },
  {
   "cell_type": "code",
   "execution_count": null,
   "id": "65d4bf30-ae3a-442e-bcfd-b19ff3a76448",
   "metadata": {},
   "outputs": [],
   "source": [
    "sbm_CA.loadGro('input/1hk0_CA.gro')"
   ]
  },
  {
   "cell_type": "markdown",
   "id": "1fc613d0-9b2c-428f-812c-f3d0af8e3e1e",
   "metadata": {},
   "source": [
    "Load the Top file into the sbm_CA object "
   ]
  },
  {
   "cell_type": "code",
   "execution_count": null,
   "id": "ff12cee7-36e7-4e2c-8e7b-0bef3619329e",
   "metadata": {},
   "outputs": [],
   "source": [
    "sbm_CA.loadTop('input/1hk0_CA.top')"
   ]
  },
  {
   "cell_type": "markdown",
   "id": "f2f9319e-2ab1-4920-a1d0-fc22603187f7",
   "metadata": {},
   "source": [
    "Load the xml file into the sbm_CA objetc\n",
    "\n",
    "this function return the name of each force added.\n",
    "\n",
    "in this example, uses only the Lennard-Jones 10-12 potential "
   ]
  },
  {
   "cell_type": "code",
   "execution_count": null,
   "id": "ff8767a5-fa54-44b9-a787-d4cf358e5470",
   "metadata": {},
   "outputs": [],
   "source": [
    "sbm_CA.loadXml('input/1hk0_CA.xml')"
   ]
  },
  {
   "cell_type": "markdown",
   "id": "363cd828-ca00-47d7-9c1a-30c2959f9768",
   "metadata": {},
   "source": [
    "The Simultion context is created feeding by all information given in previous steps"
   ]
  },
  {
   "cell_type": "code",
   "execution_count": null,
   "id": "141846e8-2e39-4208-a827-b546b0d09e25",
   "metadata": {
    "tags": []
   },
   "outputs": [],
   "source": [
    "sbm_CA.createSimulation()"
   ]
  },
  {
   "cell_type": "markdown",
   "id": "280ab43f-f0f9-414a-ab54-16b0331dbe4e",
   "metadata": {},
   "source": [
    "Create a reporters that will save data in output folder.\n",
    "\n",
    "`trajectory=True` save trajectory in .dcd format. <br>\n",
    "`energies=True` save the energy in text format, each information is separed by a comma. <br>\n",
    "`dt_files=1000` The step interval to save both trajectory and energies data."
   ]
  },
  {
   "cell_type": "code",
   "execution_count": null,
   "id": "4063ab67-7ebc-4142-b85a-8c03e55dbf72",
   "metadata": {
    "tags": []
   },
   "outputs": [],
   "source": [
    "sbm_CA.createReporters(trajectory=True, energies=True, dt_files=1000)"
   ]
  },
  {
   "cell_type": "markdown",
   "id": "3fc76210-609e-494d-8349-698667732a01",
   "metadata": {},
   "source": [
    "The run function receives the following parameters:\n",
    "\n",
    "`nsteps=10**7` number os steps to perform the simulation. <br>\n",
    "`report=True` show information as output (Progress (%), Step and Time Remaining) <br>\n",
    "`interval=10**4` The step interval to show the informations "
   ]
  },
  {
   "cell_type": "code",
   "execution_count": null,
   "id": "c210e2c8-3887-45b4-af81-9f3cd5cc9b29",
   "metadata": {
    "scrolled": true,
    "tags": []
   },
   "outputs": [],
   "source": [
    "sbm_CA.run(nsteps=10**7, report=True, interval=10**4)"
   ]
  },
  {
   "cell_type": "markdown",
   "id": "d8f27649-1e2b-4630-a152-8ac4bb19d107",
   "metadata": {},
   "source": [
    "When finished the output files can be finded in output folder"
   ]
  }
 ],
 "metadata": {
  "kernelspec": {
   "display_name": "Python 3 (ipykernel)",
   "language": "python",
   "name": "python3"
  },
  "language_info": {
   "codemirror_mode": {
    "name": "ipython",
    "version": 3
   },
   "file_extension": ".py",
   "mimetype": "text/x-python",
   "name": "python",
   "nbconvert_exporter": "python",
   "pygments_lexer": "ipython3",
   "version": "3.9.6"
  }
 },
 "nbformat": 4,
 "nbformat_minor": 5
}
